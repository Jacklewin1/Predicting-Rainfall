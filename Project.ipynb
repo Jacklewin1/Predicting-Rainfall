{
 "cells": [
  {
   "cell_type": "markdown",
   "metadata": {},
   "source": [
    "# Predicting Rainfall\n",
    "#### Alamgir Alam (45696020)\n",
    "#### Jack Lewin (45257531)\n",
    "#### Marcus Palio (45253552)\n",
    "#### Max Grant (44910118)"
   ]
  },
  {
   "cell_type": "markdown",
   "metadata": {},
   "source": [
    "## Aim of the project:\n",
    "Our goals are to utilise both analysis and visualisation of the datasets to produce a robust report and model of the impact of the varying weather elements in predicting rainfall.\n",
    "\n",
    "The datasets include daily readings of:\n",
    "- Rainfall\n",
    "- Minimum and Maximum Temperature\n",
    "- Solar Exposure\n",
    "- Wind Speed and Direction\n",
    "- Air Pressure\n",
    "- Humidity\n",
    "\n",
    "Looking at this data for the past 10 years for the Sydney Observatory Hill weather station (station code: 066062), we are looking at how effective these factors are at predicting rainfall.\n",
    "\n"
   ]
  },
  {
   "cell_type": "markdown",
   "metadata": {},
   "source": [
    "## Import Libraries to be used:"
   ]
  },
  {
   "cell_type": "code",
   "execution_count": 155,
   "metadata": {},
   "outputs": [],
   "source": [
    "# import libraries\n",
    "import pandas as pd\n",
    "import datetime\n",
    "from sklearn.feature_selection import RFE\n",
    "from sklearn.metrics import mean_squared_error, r2_score\n",
    "from sklearn.linear_model import LinearRegression\n",
    "from sklearn.linear_model import LogisticRegression\n",
    "from sklearn.model_selection import train_test_split\n",
    "\n",
    "from sklearn import metrics\n",
    "import numpy as np\n",
    "import seaborn as sns\n",
    "import pandas as pd\n",
    "import matplotlib.pylab as plt\n",
    "%matplotlib inline"
   ]
  },
  {
   "cell_type": "markdown",
   "metadata": {},
   "source": [
    "## Import and manipulation of data:\n",
    "Using four datasets from the Bureau of Meteorology (BOM), for readings of maximum temperature, minimum temperature, rainfall and solar exposure, they will be cleaned, before being merged and filling unavailable data from an existing dataset."
   ]
  },
  {
   "cell_type": "code",
   "execution_count": 156,
   "metadata": {},
   "outputs": [],
   "source": [
    "# import data\n",
    "max_temp = pd.read_csv('Data/max_temp_daily.csv')\n",
    "min_temp = pd.read_csv('Data/min_temp_daily.csv')\n",
    "rainfall = pd.read_csv('Data/rainfall_daily.csv')\n",
    "solar_exp = pd.read_csv('Data/solar_exposure_daily.csv')"
   ]
  },
  {
   "cell_type": "markdown",
   "metadata": {},
   "source": [
    "#### A look at the data for maximum temperature:"
   ]
  },
  {
   "cell_type": "code",
   "execution_count": 157,
   "metadata": {},
   "outputs": [
    {
     "data": {
      "text/html": [
       "<div>\n",
       "<style scoped>\n",
       "    .dataframe tbody tr th:only-of-type {\n",
       "        vertical-align: middle;\n",
       "    }\n",
       "\n",
       "    .dataframe tbody tr th {\n",
       "        vertical-align: top;\n",
       "    }\n",
       "\n",
       "    .dataframe thead th {\n",
       "        text-align: right;\n",
       "    }\n",
       "</style>\n",
       "<table border=\"1\" class=\"dataframe\">\n",
       "  <thead>\n",
       "    <tr style=\"text-align: right;\">\n",
       "      <th></th>\n",
       "      <th>Product code</th>\n",
       "      <th>Bureau of Meteorology station number</th>\n",
       "      <th>Year</th>\n",
       "      <th>Month</th>\n",
       "      <th>Day</th>\n",
       "      <th>Maximum temperature (Degree C)</th>\n",
       "      <th>Days of accumulation of maximum temperature</th>\n",
       "      <th>Quality</th>\n",
       "    </tr>\n",
       "  </thead>\n",
       "  <tbody>\n",
       "    <tr>\n",
       "      <th>0</th>\n",
       "      <td>IDCJAC0010</td>\n",
       "      <td>66062</td>\n",
       "      <td>1859</td>\n",
       "      <td>1</td>\n",
       "      <td>1</td>\n",
       "      <td>24.4</td>\n",
       "      <td>NaN</td>\n",
       "      <td>Y</td>\n",
       "    </tr>\n",
       "    <tr>\n",
       "      <th>1</th>\n",
       "      <td>IDCJAC0010</td>\n",
       "      <td>66062</td>\n",
       "      <td>1859</td>\n",
       "      <td>1</td>\n",
       "      <td>2</td>\n",
       "      <td>24.4</td>\n",
       "      <td>1.0</td>\n",
       "      <td>Y</td>\n",
       "    </tr>\n",
       "    <tr>\n",
       "      <th>2</th>\n",
       "      <td>IDCJAC0010</td>\n",
       "      <td>66062</td>\n",
       "      <td>1859</td>\n",
       "      <td>1</td>\n",
       "      <td>3</td>\n",
       "      <td>24.2</td>\n",
       "      <td>1.0</td>\n",
       "      <td>Y</td>\n",
       "    </tr>\n",
       "    <tr>\n",
       "      <th>3</th>\n",
       "      <td>IDCJAC0010</td>\n",
       "      <td>66062</td>\n",
       "      <td>1859</td>\n",
       "      <td>1</td>\n",
       "      <td>4</td>\n",
       "      <td>24.7</td>\n",
       "      <td>1.0</td>\n",
       "      <td>Y</td>\n",
       "    </tr>\n",
       "    <tr>\n",
       "      <th>4</th>\n",
       "      <td>IDCJAC0010</td>\n",
       "      <td>66062</td>\n",
       "      <td>1859</td>\n",
       "      <td>1</td>\n",
       "      <td>5</td>\n",
       "      <td>24.6</td>\n",
       "      <td>1.0</td>\n",
       "      <td>Y</td>\n",
       "    </tr>\n",
       "  </tbody>\n",
       "</table>\n",
       "</div>"
      ],
      "text/plain": [
       "  Product code  Bureau of Meteorology station number  Year  Month  Day  \\\n",
       "0   IDCJAC0010                                 66062  1859      1    1   \n",
       "1   IDCJAC0010                                 66062  1859      1    2   \n",
       "2   IDCJAC0010                                 66062  1859      1    3   \n",
       "3   IDCJAC0010                                 66062  1859      1    4   \n",
       "4   IDCJAC0010                                 66062  1859      1    5   \n",
       "\n",
       "   Maximum temperature (Degree C)  \\\n",
       "0                            24.4   \n",
       "1                            24.4   \n",
       "2                            24.2   \n",
       "3                            24.7   \n",
       "4                            24.6   \n",
       "\n",
       "   Days of accumulation of maximum temperature Quality  \n",
       "0                                          NaN       Y  \n",
       "1                                          1.0       Y  \n",
       "2                                          1.0       Y  \n",
       "3                                          1.0       Y  \n",
       "4                                          1.0       Y  "
      ]
     },
     "execution_count": 157,
     "metadata": {},
     "output_type": "execute_result"
    }
   ],
   "source": [
    "max_temp.head()"
   ]
  },
  {
   "cell_type": "markdown",
   "metadata": {},
   "source": [
    "### Cleaning the data:"
   ]
  },
  {
   "cell_type": "markdown",
   "metadata": {},
   "source": [
    "#### Converting to datetime:\n",
    "This allows for manipulation of the data based on the date of the weather recordings"
   ]
  },
  {
   "cell_type": "code",
   "execution_count": 158,
   "metadata": {},
   "outputs": [],
   "source": [
    "# convert seperate Year, Month and Day columns to one datetime column\n",
    "max_temp_date = pd.to_datetime(max_temp[['Year', 'Month', 'Day']])\n",
    "min_temp_date = pd.to_datetime(min_temp[['Year', 'Month', 'Day']])\n",
    "rainfall_date = pd.to_datetime(rainfall[['Year', 'Month', 'Day']])\n",
    "solar_exp_date = pd.to_datetime(solar_exp[['Year', 'Month', 'Day']])\n",
    "# add new datetime column to the data\n",
    "max_temp['Date'] = max_temp_date\n",
    "min_temp['Date'] = min_temp_date\n",
    "rainfall['Date'] = rainfall_date\n",
    "solar_exp['Date'] = solar_exp_date"
   ]
  },
  {
   "cell_type": "markdown",
   "metadata": {},
   "source": [
    "#### Removing unnecessary columns from the data:\n",
    "These columns are unnecessary in our analysis, and thus for simplicity will be removed"
   ]
  },
  {
   "cell_type": "code",
   "execution_count": 159,
   "metadata": {},
   "outputs": [],
   "source": [
    "# remove unnecessary columns\n",
    "max_temp1 = max_temp.drop(columns=['Product code', 'Bureau of Meteorology station number', 'Days of accumulation of maximum temperature', 'Year', 'Month', 'Day', 'Quality'])\n",
    "min_temp1 = min_temp.drop(columns=['Product code', 'Bureau of Meteorology station number', 'Days of accumulation of minimum temperature', 'Year', 'Month', 'Day', 'Quality'])\n",
    "rainfall1 = rainfall.drop(columns=['Product code', 'Bureau of Meteorology station number', 'Period over which rainfall was measured (days)', 'Year', 'Month', 'Day', 'Quality'])\n",
    "solar_exp1 = solar_exp.drop(columns=['Product code', 'Bureau of Meteorology station number', 'Year', 'Month', 'Day'])"
   ]
  },
  {
   "cell_type": "markdown",
   "metadata": {},
   "source": [
    "#### Restricting the data based on dates:\n",
    "Before mid 2012, the Bureau of Meteorology didn't record all available weather readings. In particular, wind direction wasn't recorded on a daily basis until mid 2012, therefore to improve the accuracy and usefullness of the analysis the project will focus on data from 1/7/2012 to 25/6/2017."
   ]
  },
  {
   "cell_type": "code",
   "execution_count": 160,
   "metadata": {},
   "outputs": [],
   "source": [
    "# restrict dates from 2012-07-01 to 2017-06-25 -----------> (best recorded data is within these dates)\n",
    "start_date = pd.to_datetime('2012-07-01')\n",
    "end_date = pd.to_datetime('2017-06-25')\n",
    "restricted_max_temp = max_temp1.loc[(max_temp1['Date'] >= start_date) & (max_temp1['Date'] <= end_date)]\n",
    "restricted_min_temp = min_temp1.loc[(min_temp1['Date'] >= start_date) & (min_temp1['Date'] <= end_date)]\n",
    "restricted_rainfall = rainfall1.loc[(rainfall1['Date'] >= start_date) & (rainfall1['Date'] <= end_date)]\n",
    "restricted_solar_exp = solar_exp1.loc[(solar_exp1['Date'] >= start_date) & (solar_exp1['Date'] <= end_date)]"
   ]
  },
  {
   "cell_type": "markdown",
   "metadata": {},
   "source": [
    "Now we index the four datasets on the date of the recording"
   ]
  },
  {
   "cell_type": "code",
   "execution_count": 161,
   "metadata": {},
   "outputs": [],
   "source": [
    "# Set the new datetime column 'Date' as the index\n",
    "max_temp_final = restricted_max_temp.set_index('Date')\n",
    "min_temp_final = restricted_min_temp.set_index('Date')\n",
    "rainfall_final = restricted_rainfall.set_index('Date')\n",
    "solar_exp_final = restricted_solar_exp.set_index('Date')"
   ]
  },
  {
   "cell_type": "markdown",
   "metadata": {},
   "source": [
    "Here is an example of the cleaned dataset for maximum temperature:"
   ]
  },
  {
   "cell_type": "code",
   "execution_count": 162,
   "metadata": {},
   "outputs": [
    {
     "data": {
      "text/html": [
       "<div>\n",
       "<style scoped>\n",
       "    .dataframe tbody tr th:only-of-type {\n",
       "        vertical-align: middle;\n",
       "    }\n",
       "\n",
       "    .dataframe tbody tr th {\n",
       "        vertical-align: top;\n",
       "    }\n",
       "\n",
       "    .dataframe thead th {\n",
       "        text-align: right;\n",
       "    }\n",
       "</style>\n",
       "<table border=\"1\" class=\"dataframe\">\n",
       "  <thead>\n",
       "    <tr style=\"text-align: right;\">\n",
       "      <th></th>\n",
       "      <th>Maximum temperature (Degree C)</th>\n",
       "    </tr>\n",
       "    <tr>\n",
       "      <th>Date</th>\n",
       "      <th></th>\n",
       "    </tr>\n",
       "  </thead>\n",
       "  <tbody>\n",
       "    <tr>\n",
       "      <th>2012-07-01</th>\n",
       "      <td>16.1</td>\n",
       "    </tr>\n",
       "    <tr>\n",
       "      <th>2012-07-02</th>\n",
       "      <td>16.8</td>\n",
       "    </tr>\n",
       "    <tr>\n",
       "      <th>2012-07-03</th>\n",
       "      <td>16.8</td>\n",
       "    </tr>\n",
       "    <tr>\n",
       "      <th>2012-07-04</th>\n",
       "      <td>16.2</td>\n",
       "    </tr>\n",
       "    <tr>\n",
       "      <th>2012-07-05</th>\n",
       "      <td>14.9</td>\n",
       "    </tr>\n",
       "  </tbody>\n",
       "</table>\n",
       "</div>"
      ],
      "text/plain": [
       "            Maximum temperature (Degree C)\n",
       "Date                                      \n",
       "2012-07-01                            16.1\n",
       "2012-07-02                            16.8\n",
       "2012-07-03                            16.8\n",
       "2012-07-04                            16.2\n",
       "2012-07-05                            14.9"
      ]
     },
     "execution_count": 162,
     "metadata": {},
     "output_type": "execute_result"
    }
   ],
   "source": [
    "max_temp_final.head()"
   ]
  },
  {
   "cell_type": "markdown",
   "metadata": {},
   "source": [
    "The other 3 datasets mirror this format and they are now ready to be merged based on the date of the recording"
   ]
  },
  {
   "cell_type": "markdown",
   "metadata": {},
   "source": [
    "## Adding additional data from an existing dataset:\n",
    "As alot of the BOM's datasets are unavailable we will utilise a pre-existing dataset to supplement the four datasets above."
   ]
  },
  {
   "cell_type": "code",
   "execution_count": 163,
   "metadata": {},
   "outputs": [],
   "source": [
    "# import kaggle dataset\n",
    "weather_aus = pd.read_csv('Data/weatherAUS.csv')"
   ]
  },
  {
   "cell_type": "markdown",
   "metadata": {},
   "source": [
    "## A look at the dataset:"
   ]
  },
  {
   "cell_type": "code",
   "execution_count": 164,
   "metadata": {},
   "outputs": [
    {
     "data": {
      "text/html": [
       "<div>\n",
       "<style scoped>\n",
       "    .dataframe tbody tr th:only-of-type {\n",
       "        vertical-align: middle;\n",
       "    }\n",
       "\n",
       "    .dataframe tbody tr th {\n",
       "        vertical-align: top;\n",
       "    }\n",
       "\n",
       "    .dataframe thead th {\n",
       "        text-align: right;\n",
       "    }\n",
       "</style>\n",
       "<table border=\"1\" class=\"dataframe\">\n",
       "  <thead>\n",
       "    <tr style=\"text-align: right;\">\n",
       "      <th></th>\n",
       "      <th>Date</th>\n",
       "      <th>Location</th>\n",
       "      <th>MinTemp</th>\n",
       "      <th>MaxTemp</th>\n",
       "      <th>Rainfall</th>\n",
       "      <th>Evaporation</th>\n",
       "      <th>Sunshine</th>\n",
       "      <th>WindGustDir</th>\n",
       "      <th>WindGustSpeed</th>\n",
       "      <th>WindDir9am</th>\n",
       "      <th>...</th>\n",
       "      <th>Humidity3pm</th>\n",
       "      <th>Pressure9am</th>\n",
       "      <th>Pressure3pm</th>\n",
       "      <th>Cloud9am</th>\n",
       "      <th>Cloud3pm</th>\n",
       "      <th>Temp9am</th>\n",
       "      <th>Temp3pm</th>\n",
       "      <th>RainToday</th>\n",
       "      <th>RISK_MM</th>\n",
       "      <th>RainTomorrow</th>\n",
       "    </tr>\n",
       "  </thead>\n",
       "  <tbody>\n",
       "    <tr>\n",
       "      <th>0</th>\n",
       "      <td>2008-12-01</td>\n",
       "      <td>Albury</td>\n",
       "      <td>13.4</td>\n",
       "      <td>22.9</td>\n",
       "      <td>0.6</td>\n",
       "      <td>NaN</td>\n",
       "      <td>NaN</td>\n",
       "      <td>W</td>\n",
       "      <td>44.0</td>\n",
       "      <td>W</td>\n",
       "      <td>...</td>\n",
       "      <td>22.0</td>\n",
       "      <td>1007.7</td>\n",
       "      <td>1007.1</td>\n",
       "      <td>8.0</td>\n",
       "      <td>NaN</td>\n",
       "      <td>16.9</td>\n",
       "      <td>21.8</td>\n",
       "      <td>No</td>\n",
       "      <td>0.0</td>\n",
       "      <td>No</td>\n",
       "    </tr>\n",
       "    <tr>\n",
       "      <th>1</th>\n",
       "      <td>2008-12-02</td>\n",
       "      <td>Albury</td>\n",
       "      <td>7.4</td>\n",
       "      <td>25.1</td>\n",
       "      <td>0.0</td>\n",
       "      <td>NaN</td>\n",
       "      <td>NaN</td>\n",
       "      <td>WNW</td>\n",
       "      <td>44.0</td>\n",
       "      <td>NNW</td>\n",
       "      <td>...</td>\n",
       "      <td>25.0</td>\n",
       "      <td>1010.6</td>\n",
       "      <td>1007.8</td>\n",
       "      <td>NaN</td>\n",
       "      <td>NaN</td>\n",
       "      <td>17.2</td>\n",
       "      <td>24.3</td>\n",
       "      <td>No</td>\n",
       "      <td>0.0</td>\n",
       "      <td>No</td>\n",
       "    </tr>\n",
       "    <tr>\n",
       "      <th>2</th>\n",
       "      <td>2008-12-03</td>\n",
       "      <td>Albury</td>\n",
       "      <td>12.9</td>\n",
       "      <td>25.7</td>\n",
       "      <td>0.0</td>\n",
       "      <td>NaN</td>\n",
       "      <td>NaN</td>\n",
       "      <td>WSW</td>\n",
       "      <td>46.0</td>\n",
       "      <td>W</td>\n",
       "      <td>...</td>\n",
       "      <td>30.0</td>\n",
       "      <td>1007.6</td>\n",
       "      <td>1008.7</td>\n",
       "      <td>NaN</td>\n",
       "      <td>2.0</td>\n",
       "      <td>21.0</td>\n",
       "      <td>23.2</td>\n",
       "      <td>No</td>\n",
       "      <td>0.0</td>\n",
       "      <td>No</td>\n",
       "    </tr>\n",
       "    <tr>\n",
       "      <th>3</th>\n",
       "      <td>2008-12-04</td>\n",
       "      <td>Albury</td>\n",
       "      <td>9.2</td>\n",
       "      <td>28.0</td>\n",
       "      <td>0.0</td>\n",
       "      <td>NaN</td>\n",
       "      <td>NaN</td>\n",
       "      <td>NE</td>\n",
       "      <td>24.0</td>\n",
       "      <td>SE</td>\n",
       "      <td>...</td>\n",
       "      <td>16.0</td>\n",
       "      <td>1017.6</td>\n",
       "      <td>1012.8</td>\n",
       "      <td>NaN</td>\n",
       "      <td>NaN</td>\n",
       "      <td>18.1</td>\n",
       "      <td>26.5</td>\n",
       "      <td>No</td>\n",
       "      <td>1.0</td>\n",
       "      <td>No</td>\n",
       "    </tr>\n",
       "    <tr>\n",
       "      <th>4</th>\n",
       "      <td>2008-12-05</td>\n",
       "      <td>Albury</td>\n",
       "      <td>17.5</td>\n",
       "      <td>32.3</td>\n",
       "      <td>1.0</td>\n",
       "      <td>NaN</td>\n",
       "      <td>NaN</td>\n",
       "      <td>W</td>\n",
       "      <td>41.0</td>\n",
       "      <td>ENE</td>\n",
       "      <td>...</td>\n",
       "      <td>33.0</td>\n",
       "      <td>1010.8</td>\n",
       "      <td>1006.0</td>\n",
       "      <td>7.0</td>\n",
       "      <td>8.0</td>\n",
       "      <td>17.8</td>\n",
       "      <td>29.7</td>\n",
       "      <td>No</td>\n",
       "      <td>0.2</td>\n",
       "      <td>No</td>\n",
       "    </tr>\n",
       "  </tbody>\n",
       "</table>\n",
       "<p>5 rows × 24 columns</p>\n",
       "</div>"
      ],
      "text/plain": [
       "         Date Location  MinTemp  MaxTemp  Rainfall  Evaporation  Sunshine  \\\n",
       "0  2008-12-01   Albury     13.4     22.9       0.6          NaN       NaN   \n",
       "1  2008-12-02   Albury      7.4     25.1       0.0          NaN       NaN   \n",
       "2  2008-12-03   Albury     12.9     25.7       0.0          NaN       NaN   \n",
       "3  2008-12-04   Albury      9.2     28.0       0.0          NaN       NaN   \n",
       "4  2008-12-05   Albury     17.5     32.3       1.0          NaN       NaN   \n",
       "\n",
       "  WindGustDir  WindGustSpeed WindDir9am  ... Humidity3pm  Pressure9am  \\\n",
       "0           W           44.0          W  ...        22.0       1007.7   \n",
       "1         WNW           44.0        NNW  ...        25.0       1010.6   \n",
       "2         WSW           46.0          W  ...        30.0       1007.6   \n",
       "3          NE           24.0         SE  ...        16.0       1017.6   \n",
       "4           W           41.0        ENE  ...        33.0       1010.8   \n",
       "\n",
       "   Pressure3pm  Cloud9am  Cloud3pm  Temp9am  Temp3pm  RainToday  RISK_MM  \\\n",
       "0       1007.1       8.0       NaN     16.9     21.8         No      0.0   \n",
       "1       1007.8       NaN       NaN     17.2     24.3         No      0.0   \n",
       "2       1008.7       NaN       2.0     21.0     23.2         No      0.0   \n",
       "3       1012.8       NaN       NaN     18.1     26.5         No      1.0   \n",
       "4       1006.0       7.0       8.0     17.8     29.7         No      0.2   \n",
       "\n",
       "   RainTomorrow  \n",
       "0            No  \n",
       "1            No  \n",
       "2            No  \n",
       "3            No  \n",
       "4            No  \n",
       "\n",
       "[5 rows x 24 columns]"
      ]
     },
     "execution_count": 164,
     "metadata": {},
     "output_type": "execute_result"
    }
   ],
   "source": [
    "weather_aus.head()"
   ]
  },
  {
   "cell_type": "markdown",
   "metadata": {},
   "source": [
    "The dataset contains readings for many citys around Australia, however we only want readings for Syndey, so we will create a new dataset that only contains weather readings for Sydney."
   ]
  },
  {
   "cell_type": "code",
   "execution_count": 165,
   "metadata": {},
   "outputs": [],
   "source": [
    "# create dataframe with only Locations containg \"Sydney\"\n",
    "weather_syd = weather_aus[weather_aus['Location'].str.contains(\"Sydney\")]\n",
    "# remove \"SydneyAirport\"\n",
    "weather_syd_only = weather_syd[~weather_syd['Location'].str.contains(\"SydneyAirport\")]"
   ]
  },
  {
   "cell_type": "markdown",
   "metadata": {},
   "source": [
    "Now we have reduced the dataset to contain only readings of weather in Sydney. Having a look at the new data we can see this."
   ]
  },
  {
   "cell_type": "code",
   "execution_count": 166,
   "metadata": {},
   "outputs": [
    {
     "data": {
      "text/html": [
       "<div>\n",
       "<style scoped>\n",
       "    .dataframe tbody tr th:only-of-type {\n",
       "        vertical-align: middle;\n",
       "    }\n",
       "\n",
       "    .dataframe tbody tr th {\n",
       "        vertical-align: top;\n",
       "    }\n",
       "\n",
       "    .dataframe thead th {\n",
       "        text-align: right;\n",
       "    }\n",
       "</style>\n",
       "<table border=\"1\" class=\"dataframe\">\n",
       "  <thead>\n",
       "    <tr style=\"text-align: right;\">\n",
       "      <th></th>\n",
       "      <th>Date</th>\n",
       "      <th>Location</th>\n",
       "      <th>MinTemp</th>\n",
       "      <th>MaxTemp</th>\n",
       "      <th>Rainfall</th>\n",
       "      <th>Evaporation</th>\n",
       "      <th>Sunshine</th>\n",
       "      <th>WindGustDir</th>\n",
       "      <th>WindGustSpeed</th>\n",
       "      <th>WindDir9am</th>\n",
       "      <th>...</th>\n",
       "      <th>Humidity3pm</th>\n",
       "      <th>Pressure9am</th>\n",
       "      <th>Pressure3pm</th>\n",
       "      <th>Cloud9am</th>\n",
       "      <th>Cloud3pm</th>\n",
       "      <th>Temp9am</th>\n",
       "      <th>Temp3pm</th>\n",
       "      <th>RainToday</th>\n",
       "      <th>RISK_MM</th>\n",
       "      <th>RainTomorrow</th>\n",
       "    </tr>\n",
       "  </thead>\n",
       "  <tbody>\n",
       "    <tr>\n",
       "      <th>29497</th>\n",
       "      <td>2008-02-01</td>\n",
       "      <td>Sydney</td>\n",
       "      <td>19.5</td>\n",
       "      <td>22.4</td>\n",
       "      <td>15.6</td>\n",
       "      <td>6.2</td>\n",
       "      <td>0.0</td>\n",
       "      <td>NaN</td>\n",
       "      <td>NaN</td>\n",
       "      <td>S</td>\n",
       "      <td>...</td>\n",
       "      <td>84.0</td>\n",
       "      <td>1017.6</td>\n",
       "      <td>1017.4</td>\n",
       "      <td>8.0</td>\n",
       "      <td>8.0</td>\n",
       "      <td>20.7</td>\n",
       "      <td>20.9</td>\n",
       "      <td>Yes</td>\n",
       "      <td>6.0</td>\n",
       "      <td>Yes</td>\n",
       "    </tr>\n",
       "    <tr>\n",
       "      <th>29498</th>\n",
       "      <td>2008-02-02</td>\n",
       "      <td>Sydney</td>\n",
       "      <td>19.5</td>\n",
       "      <td>25.6</td>\n",
       "      <td>6.0</td>\n",
       "      <td>3.4</td>\n",
       "      <td>2.7</td>\n",
       "      <td>NaN</td>\n",
       "      <td>NaN</td>\n",
       "      <td>W</td>\n",
       "      <td>...</td>\n",
       "      <td>73.0</td>\n",
       "      <td>1017.9</td>\n",
       "      <td>1016.4</td>\n",
       "      <td>7.0</td>\n",
       "      <td>7.0</td>\n",
       "      <td>22.4</td>\n",
       "      <td>24.8</td>\n",
       "      <td>Yes</td>\n",
       "      <td>6.6</td>\n",
       "      <td>Yes</td>\n",
       "    </tr>\n",
       "    <tr>\n",
       "      <th>29499</th>\n",
       "      <td>2008-02-03</td>\n",
       "      <td>Sydney</td>\n",
       "      <td>21.6</td>\n",
       "      <td>24.5</td>\n",
       "      <td>6.6</td>\n",
       "      <td>2.4</td>\n",
       "      <td>0.1</td>\n",
       "      <td>NaN</td>\n",
       "      <td>NaN</td>\n",
       "      <td>ESE</td>\n",
       "      <td>...</td>\n",
       "      <td>86.0</td>\n",
       "      <td>1016.7</td>\n",
       "      <td>1015.6</td>\n",
       "      <td>7.0</td>\n",
       "      <td>8.0</td>\n",
       "      <td>23.5</td>\n",
       "      <td>23.0</td>\n",
       "      <td>Yes</td>\n",
       "      <td>18.8</td>\n",
       "      <td>Yes</td>\n",
       "    </tr>\n",
       "    <tr>\n",
       "      <th>29500</th>\n",
       "      <td>2008-02-04</td>\n",
       "      <td>Sydney</td>\n",
       "      <td>20.2</td>\n",
       "      <td>22.8</td>\n",
       "      <td>18.8</td>\n",
       "      <td>2.2</td>\n",
       "      <td>0.0</td>\n",
       "      <td>NaN</td>\n",
       "      <td>NaN</td>\n",
       "      <td>NNE</td>\n",
       "      <td>...</td>\n",
       "      <td>90.0</td>\n",
       "      <td>1014.2</td>\n",
       "      <td>1011.8</td>\n",
       "      <td>8.0</td>\n",
       "      <td>8.0</td>\n",
       "      <td>21.4</td>\n",
       "      <td>20.9</td>\n",
       "      <td>Yes</td>\n",
       "      <td>77.4</td>\n",
       "      <td>Yes</td>\n",
       "    </tr>\n",
       "    <tr>\n",
       "      <th>29501</th>\n",
       "      <td>2008-02-05</td>\n",
       "      <td>Sydney</td>\n",
       "      <td>19.7</td>\n",
       "      <td>25.7</td>\n",
       "      <td>77.4</td>\n",
       "      <td>NaN</td>\n",
       "      <td>0.0</td>\n",
       "      <td>NaN</td>\n",
       "      <td>NaN</td>\n",
       "      <td>NNE</td>\n",
       "      <td>...</td>\n",
       "      <td>74.0</td>\n",
       "      <td>1008.3</td>\n",
       "      <td>1004.8</td>\n",
       "      <td>8.0</td>\n",
       "      <td>8.0</td>\n",
       "      <td>22.5</td>\n",
       "      <td>25.5</td>\n",
       "      <td>Yes</td>\n",
       "      <td>1.6</td>\n",
       "      <td>Yes</td>\n",
       "    </tr>\n",
       "  </tbody>\n",
       "</table>\n",
       "<p>5 rows × 24 columns</p>\n",
       "</div>"
      ],
      "text/plain": [
       "             Date Location  MinTemp  MaxTemp  Rainfall  Evaporation  Sunshine  \\\n",
       "29497  2008-02-01   Sydney     19.5     22.4      15.6          6.2       0.0   \n",
       "29498  2008-02-02   Sydney     19.5     25.6       6.0          3.4       2.7   \n",
       "29499  2008-02-03   Sydney     21.6     24.5       6.6          2.4       0.1   \n",
       "29500  2008-02-04   Sydney     20.2     22.8      18.8          2.2       0.0   \n",
       "29501  2008-02-05   Sydney     19.7     25.7      77.4          NaN       0.0   \n",
       "\n",
       "      WindGustDir  WindGustSpeed WindDir9am  ... Humidity3pm  Pressure9am  \\\n",
       "29497         NaN            NaN          S  ...        84.0       1017.6   \n",
       "29498         NaN            NaN          W  ...        73.0       1017.9   \n",
       "29499         NaN            NaN        ESE  ...        86.0       1016.7   \n",
       "29500         NaN            NaN        NNE  ...        90.0       1014.2   \n",
       "29501         NaN            NaN        NNE  ...        74.0       1008.3   \n",
       "\n",
       "       Pressure3pm  Cloud9am  Cloud3pm  Temp9am  Temp3pm  RainToday  RISK_MM  \\\n",
       "29497       1017.4       8.0       8.0     20.7     20.9        Yes      6.0   \n",
       "29498       1016.4       7.0       7.0     22.4     24.8        Yes      6.6   \n",
       "29499       1015.6       7.0       8.0     23.5     23.0        Yes     18.8   \n",
       "29500       1011.8       8.0       8.0     21.4     20.9        Yes     77.4   \n",
       "29501       1004.8       8.0       8.0     22.5     25.5        Yes      1.6   \n",
       "\n",
       "       RainTomorrow  \n",
       "29497           Yes  \n",
       "29498           Yes  \n",
       "29499           Yes  \n",
       "29500           Yes  \n",
       "29501           Yes  \n",
       "\n",
       "[5 rows x 24 columns]"
      ]
     },
     "execution_count": 166,
     "metadata": {},
     "output_type": "execute_result"
    }
   ],
   "source": [
    "weather_syd_only.head()"
   ]
  },
  {
   "cell_type": "markdown",
   "metadata": {},
   "source": [
    "Now, in order to utilise this dataset with our existing four datasets, we will need to apply some further manipulation. We begin with converting the dates to datetime format:"
   ]
  },
  {
   "cell_type": "code",
   "execution_count": 167,
   "metadata": {},
   "outputs": [
    {
     "name": "stderr",
     "output_type": "stream",
     "text": [
      "C:\\Users\\Mark\\Anaconda3\\lib\\site-packages\\ipykernel_launcher.py:1: SettingWithCopyWarning: \n",
      "A value is trying to be set on a copy of a slice from a DataFrame.\n",
      "Try using .loc[row_indexer,col_indexer] = value instead\n",
      "\n",
      "See the caveats in the documentation: http://pandas.pydata.org/pandas-docs/stable/indexing.html#indexing-view-versus-copy\n",
      "  \"\"\"Entry point for launching an IPython kernel.\n"
     ]
    }
   ],
   "source": [
    "weather_syd_only['Date'] = pd.to_datetime(weather_syd_only['Date'])"
   ]
  },
  {
   "cell_type": "markdown",
   "metadata": {},
   "source": [
    "Now we can restrict the dataset to match the timeframe of our other data (1/7/2012 to 25/6/2017)."
   ]
  },
  {
   "cell_type": "code",
   "execution_count": 168,
   "metadata": {},
   "outputs": [],
   "source": [
    "weather_syd_date_restricted = weather_syd_only.loc[(weather_syd_only['Date'] >= start_date)]"
   ]
  },
  {
   "cell_type": "code",
   "execution_count": 169,
   "metadata": {},
   "outputs": [
    {
     "data": {
      "text/html": [
       "<div>\n",
       "<style scoped>\n",
       "    .dataframe tbody tr th:only-of-type {\n",
       "        vertical-align: middle;\n",
       "    }\n",
       "\n",
       "    .dataframe tbody tr th {\n",
       "        vertical-align: top;\n",
       "    }\n",
       "\n",
       "    .dataframe thead th {\n",
       "        text-align: right;\n",
       "    }\n",
       "</style>\n",
       "<table border=\"1\" class=\"dataframe\">\n",
       "  <thead>\n",
       "    <tr style=\"text-align: right;\">\n",
       "      <th></th>\n",
       "      <th>Date</th>\n",
       "      <th>Location</th>\n",
       "      <th>MinTemp</th>\n",
       "      <th>MaxTemp</th>\n",
       "      <th>Rainfall</th>\n",
       "      <th>Evaporation</th>\n",
       "      <th>Sunshine</th>\n",
       "      <th>WindGustDir</th>\n",
       "      <th>WindGustSpeed</th>\n",
       "      <th>WindDir9am</th>\n",
       "      <th>...</th>\n",
       "      <th>Humidity3pm</th>\n",
       "      <th>Pressure9am</th>\n",
       "      <th>Pressure3pm</th>\n",
       "      <th>Cloud9am</th>\n",
       "      <th>Cloud3pm</th>\n",
       "      <th>Temp9am</th>\n",
       "      <th>Temp3pm</th>\n",
       "      <th>RainToday</th>\n",
       "      <th>RISK_MM</th>\n",
       "      <th>RainTomorrow</th>\n",
       "    </tr>\n",
       "  </thead>\n",
       "  <tbody>\n",
       "    <tr>\n",
       "      <th>31076</th>\n",
       "      <td>2012-07-01</td>\n",
       "      <td>Sydney</td>\n",
       "      <td>9.9</td>\n",
       "      <td>16.1</td>\n",
       "      <td>0.0</td>\n",
       "      <td>3.0</td>\n",
       "      <td>5.9</td>\n",
       "      <td>WSW</td>\n",
       "      <td>44.0</td>\n",
       "      <td>W</td>\n",
       "      <td>...</td>\n",
       "      <td>28.0</td>\n",
       "      <td>1016.2</td>\n",
       "      <td>1013.4</td>\n",
       "      <td>6.0</td>\n",
       "      <td>2.0</td>\n",
       "      <td>10.4</td>\n",
       "      <td>15.8</td>\n",
       "      <td>No</td>\n",
       "      <td>0.0</td>\n",
       "      <td>No</td>\n",
       "    </tr>\n",
       "    <tr>\n",
       "      <th>31077</th>\n",
       "      <td>2012-07-02</td>\n",
       "      <td>Sydney</td>\n",
       "      <td>7.5</td>\n",
       "      <td>16.8</td>\n",
       "      <td>0.0</td>\n",
       "      <td>3.8</td>\n",
       "      <td>9.6</td>\n",
       "      <td>W</td>\n",
       "      <td>52.0</td>\n",
       "      <td>W</td>\n",
       "      <td>...</td>\n",
       "      <td>36.0</td>\n",
       "      <td>1016.0</td>\n",
       "      <td>1015.5</td>\n",
       "      <td>1.0</td>\n",
       "      <td>3.0</td>\n",
       "      <td>11.3</td>\n",
       "      <td>16.1</td>\n",
       "      <td>No</td>\n",
       "      <td>0.0</td>\n",
       "      <td>No</td>\n",
       "    </tr>\n",
       "    <tr>\n",
       "      <th>31078</th>\n",
       "      <td>2012-07-03</td>\n",
       "      <td>Sydney</td>\n",
       "      <td>7.7</td>\n",
       "      <td>16.8</td>\n",
       "      <td>0.0</td>\n",
       "      <td>2.8</td>\n",
       "      <td>9.5</td>\n",
       "      <td>NaN</td>\n",
       "      <td>NaN</td>\n",
       "      <td>W</td>\n",
       "      <td>...</td>\n",
       "      <td>40.0</td>\n",
       "      <td>1020.3</td>\n",
       "      <td>1018.1</td>\n",
       "      <td>1.0</td>\n",
       "      <td>5.0</td>\n",
       "      <td>9.6</td>\n",
       "      <td>15.8</td>\n",
       "      <td>No</td>\n",
       "      <td>0.0</td>\n",
       "      <td>No</td>\n",
       "    </tr>\n",
       "    <tr>\n",
       "      <th>31079</th>\n",
       "      <td>2012-07-04</td>\n",
       "      <td>Sydney</td>\n",
       "      <td>7.2</td>\n",
       "      <td>16.2</td>\n",
       "      <td>0.0</td>\n",
       "      <td>3.6</td>\n",
       "      <td>6.4</td>\n",
       "      <td>NaN</td>\n",
       "      <td>NaN</td>\n",
       "      <td>W</td>\n",
       "      <td>...</td>\n",
       "      <td>43.0</td>\n",
       "      <td>1024.6</td>\n",
       "      <td>1025.1</td>\n",
       "      <td>3.0</td>\n",
       "      <td>7.0</td>\n",
       "      <td>9.6</td>\n",
       "      <td>15.9</td>\n",
       "      <td>No</td>\n",
       "      <td>4.0</td>\n",
       "      <td>Yes</td>\n",
       "    </tr>\n",
       "    <tr>\n",
       "      <th>31080</th>\n",
       "      <td>2012-07-05</td>\n",
       "      <td>Sydney</td>\n",
       "      <td>8.7</td>\n",
       "      <td>14.9</td>\n",
       "      <td>4.0</td>\n",
       "      <td>2.6</td>\n",
       "      <td>4.5</td>\n",
       "      <td>SSW</td>\n",
       "      <td>44.0</td>\n",
       "      <td>W</td>\n",
       "      <td>...</td>\n",
       "      <td>72.0</td>\n",
       "      <td>1031.0</td>\n",
       "      <td>1030.1</td>\n",
       "      <td>5.0</td>\n",
       "      <td>7.0</td>\n",
       "      <td>10.7</td>\n",
       "      <td>13.6</td>\n",
       "      <td>Yes</td>\n",
       "      <td>19.0</td>\n",
       "      <td>Yes</td>\n",
       "    </tr>\n",
       "  </tbody>\n",
       "</table>\n",
       "<p>5 rows × 24 columns</p>\n",
       "</div>"
      ],
      "text/plain": [
       "            Date Location  MinTemp  MaxTemp  Rainfall  Evaporation  Sunshine  \\\n",
       "31076 2012-07-01   Sydney      9.9     16.1       0.0          3.0       5.9   \n",
       "31077 2012-07-02   Sydney      7.5     16.8       0.0          3.8       9.6   \n",
       "31078 2012-07-03   Sydney      7.7     16.8       0.0          2.8       9.5   \n",
       "31079 2012-07-04   Sydney      7.2     16.2       0.0          3.6       6.4   \n",
       "31080 2012-07-05   Sydney      8.7     14.9       4.0          2.6       4.5   \n",
       "\n",
       "      WindGustDir  WindGustSpeed WindDir9am  ... Humidity3pm  Pressure9am  \\\n",
       "31076         WSW           44.0          W  ...        28.0       1016.2   \n",
       "31077           W           52.0          W  ...        36.0       1016.0   \n",
       "31078         NaN            NaN          W  ...        40.0       1020.3   \n",
       "31079         NaN            NaN          W  ...        43.0       1024.6   \n",
       "31080         SSW           44.0          W  ...        72.0       1031.0   \n",
       "\n",
       "       Pressure3pm  Cloud9am  Cloud3pm  Temp9am  Temp3pm  RainToday  RISK_MM  \\\n",
       "31076       1013.4       6.0       2.0     10.4     15.8         No      0.0   \n",
       "31077       1015.5       1.0       3.0     11.3     16.1         No      0.0   \n",
       "31078       1018.1       1.0       5.0      9.6     15.8         No      0.0   \n",
       "31079       1025.1       3.0       7.0      9.6     15.9         No      4.0   \n",
       "31080       1030.1       5.0       7.0     10.7     13.6        Yes     19.0   \n",
       "\n",
       "       RainTomorrow  \n",
       "31076            No  \n",
       "31077            No  \n",
       "31078            No  \n",
       "31079           Yes  \n",
       "31080           Yes  \n",
       "\n",
       "[5 rows x 24 columns]"
      ]
     },
     "execution_count": 169,
     "metadata": {},
     "output_type": "execute_result"
    }
   ],
   "source": [
    "weather_syd_date_restricted.head()"
   ]
  },
  {
   "cell_type": "markdown",
   "metadata": {},
   "source": [
    "In order to merge the datasets we need to set a common index between them. In the same fashion as with the previous four datasets, we set the index to the date"
   ]
  },
  {
   "cell_type": "code",
   "execution_count": 170,
   "metadata": {},
   "outputs": [],
   "source": [
    "weather_syd = weather_syd_date_restricted.set_index('Date')"
   ]
  },
  {
   "cell_type": "markdown",
   "metadata": {},
   "source": [
    "This has produced the following dataset:"
   ]
  },
  {
   "cell_type": "code",
   "execution_count": 171,
   "metadata": {},
   "outputs": [
    {
     "data": {
      "text/html": [
       "<div>\n",
       "<style scoped>\n",
       "    .dataframe tbody tr th:only-of-type {\n",
       "        vertical-align: middle;\n",
       "    }\n",
       "\n",
       "    .dataframe tbody tr th {\n",
       "        vertical-align: top;\n",
       "    }\n",
       "\n",
       "    .dataframe thead th {\n",
       "        text-align: right;\n",
       "    }\n",
       "</style>\n",
       "<table border=\"1\" class=\"dataframe\">\n",
       "  <thead>\n",
       "    <tr style=\"text-align: right;\">\n",
       "      <th></th>\n",
       "      <th>Location</th>\n",
       "      <th>MinTemp</th>\n",
       "      <th>MaxTemp</th>\n",
       "      <th>Rainfall</th>\n",
       "      <th>Evaporation</th>\n",
       "      <th>Sunshine</th>\n",
       "      <th>WindGustDir</th>\n",
       "      <th>WindGustSpeed</th>\n",
       "      <th>WindDir9am</th>\n",
       "      <th>WindDir3pm</th>\n",
       "      <th>...</th>\n",
       "      <th>Humidity3pm</th>\n",
       "      <th>Pressure9am</th>\n",
       "      <th>Pressure3pm</th>\n",
       "      <th>Cloud9am</th>\n",
       "      <th>Cloud3pm</th>\n",
       "      <th>Temp9am</th>\n",
       "      <th>Temp3pm</th>\n",
       "      <th>RainToday</th>\n",
       "      <th>RISK_MM</th>\n",
       "      <th>RainTomorrow</th>\n",
       "    </tr>\n",
       "    <tr>\n",
       "      <th>Date</th>\n",
       "      <th></th>\n",
       "      <th></th>\n",
       "      <th></th>\n",
       "      <th></th>\n",
       "      <th></th>\n",
       "      <th></th>\n",
       "      <th></th>\n",
       "      <th></th>\n",
       "      <th></th>\n",
       "      <th></th>\n",
       "      <th></th>\n",
       "      <th></th>\n",
       "      <th></th>\n",
       "      <th></th>\n",
       "      <th></th>\n",
       "      <th></th>\n",
       "      <th></th>\n",
       "      <th></th>\n",
       "      <th></th>\n",
       "      <th></th>\n",
       "      <th></th>\n",
       "    </tr>\n",
       "  </thead>\n",
       "  <tbody>\n",
       "    <tr>\n",
       "      <th>2012-07-01</th>\n",
       "      <td>Sydney</td>\n",
       "      <td>9.9</td>\n",
       "      <td>16.1</td>\n",
       "      <td>0.0</td>\n",
       "      <td>3.0</td>\n",
       "      <td>5.9</td>\n",
       "      <td>WSW</td>\n",
       "      <td>44.0</td>\n",
       "      <td>W</td>\n",
       "      <td>W</td>\n",
       "      <td>...</td>\n",
       "      <td>28.0</td>\n",
       "      <td>1016.2</td>\n",
       "      <td>1013.4</td>\n",
       "      <td>6.0</td>\n",
       "      <td>2.0</td>\n",
       "      <td>10.4</td>\n",
       "      <td>15.8</td>\n",
       "      <td>No</td>\n",
       "      <td>0.0</td>\n",
       "      <td>No</td>\n",
       "    </tr>\n",
       "    <tr>\n",
       "      <th>2012-07-02</th>\n",
       "      <td>Sydney</td>\n",
       "      <td>7.5</td>\n",
       "      <td>16.8</td>\n",
       "      <td>0.0</td>\n",
       "      <td>3.8</td>\n",
       "      <td>9.6</td>\n",
       "      <td>W</td>\n",
       "      <td>52.0</td>\n",
       "      <td>W</td>\n",
       "      <td>WSW</td>\n",
       "      <td>...</td>\n",
       "      <td>36.0</td>\n",
       "      <td>1016.0</td>\n",
       "      <td>1015.5</td>\n",
       "      <td>1.0</td>\n",
       "      <td>3.0</td>\n",
       "      <td>11.3</td>\n",
       "      <td>16.1</td>\n",
       "      <td>No</td>\n",
       "      <td>0.0</td>\n",
       "      <td>No</td>\n",
       "    </tr>\n",
       "    <tr>\n",
       "      <th>2012-07-03</th>\n",
       "      <td>Sydney</td>\n",
       "      <td>7.7</td>\n",
       "      <td>16.8</td>\n",
       "      <td>0.0</td>\n",
       "      <td>2.8</td>\n",
       "      <td>9.5</td>\n",
       "      <td>NaN</td>\n",
       "      <td>NaN</td>\n",
       "      <td>W</td>\n",
       "      <td>S</td>\n",
       "      <td>...</td>\n",
       "      <td>40.0</td>\n",
       "      <td>1020.3</td>\n",
       "      <td>1018.1</td>\n",
       "      <td>1.0</td>\n",
       "      <td>5.0</td>\n",
       "      <td>9.6</td>\n",
       "      <td>15.8</td>\n",
       "      <td>No</td>\n",
       "      <td>0.0</td>\n",
       "      <td>No</td>\n",
       "    </tr>\n",
       "    <tr>\n",
       "      <th>2012-07-04</th>\n",
       "      <td>Sydney</td>\n",
       "      <td>7.2</td>\n",
       "      <td>16.2</td>\n",
       "      <td>0.0</td>\n",
       "      <td>3.6</td>\n",
       "      <td>6.4</td>\n",
       "      <td>NaN</td>\n",
       "      <td>NaN</td>\n",
       "      <td>W</td>\n",
       "      <td>SSW</td>\n",
       "      <td>...</td>\n",
       "      <td>43.0</td>\n",
       "      <td>1024.6</td>\n",
       "      <td>1025.1</td>\n",
       "      <td>3.0</td>\n",
       "      <td>7.0</td>\n",
       "      <td>9.6</td>\n",
       "      <td>15.9</td>\n",
       "      <td>No</td>\n",
       "      <td>4.0</td>\n",
       "      <td>Yes</td>\n",
       "    </tr>\n",
       "    <tr>\n",
       "      <th>2012-07-05</th>\n",
       "      <td>Sydney</td>\n",
       "      <td>8.7</td>\n",
       "      <td>14.9</td>\n",
       "      <td>4.0</td>\n",
       "      <td>2.6</td>\n",
       "      <td>4.5</td>\n",
       "      <td>SSW</td>\n",
       "      <td>44.0</td>\n",
       "      <td>W</td>\n",
       "      <td>SSW</td>\n",
       "      <td>...</td>\n",
       "      <td>72.0</td>\n",
       "      <td>1031.0</td>\n",
       "      <td>1030.1</td>\n",
       "      <td>5.0</td>\n",
       "      <td>7.0</td>\n",
       "      <td>10.7</td>\n",
       "      <td>13.6</td>\n",
       "      <td>Yes</td>\n",
       "      <td>19.0</td>\n",
       "      <td>Yes</td>\n",
       "    </tr>\n",
       "  </tbody>\n",
       "</table>\n",
       "<p>5 rows × 23 columns</p>\n",
       "</div>"
      ],
      "text/plain": [
       "           Location  MinTemp  MaxTemp  Rainfall  Evaporation  Sunshine  \\\n",
       "Date                                                                     \n",
       "2012-07-01   Sydney      9.9     16.1       0.0          3.0       5.9   \n",
       "2012-07-02   Sydney      7.5     16.8       0.0          3.8       9.6   \n",
       "2012-07-03   Sydney      7.7     16.8       0.0          2.8       9.5   \n",
       "2012-07-04   Sydney      7.2     16.2       0.0          3.6       6.4   \n",
       "2012-07-05   Sydney      8.7     14.9       4.0          2.6       4.5   \n",
       "\n",
       "           WindGustDir  WindGustSpeed WindDir9am WindDir3pm  ...  Humidity3pm  \\\n",
       "Date                                                         ...                \n",
       "2012-07-01         WSW           44.0          W          W  ...         28.0   \n",
       "2012-07-02           W           52.0          W        WSW  ...         36.0   \n",
       "2012-07-03         NaN            NaN          W          S  ...         40.0   \n",
       "2012-07-04         NaN            NaN          W        SSW  ...         43.0   \n",
       "2012-07-05         SSW           44.0          W        SSW  ...         72.0   \n",
       "\n",
       "            Pressure9am  Pressure3pm  Cloud9am  Cloud3pm  Temp9am  Temp3pm  \\\n",
       "Date                                                                         \n",
       "2012-07-01       1016.2       1013.4       6.0       2.0     10.4     15.8   \n",
       "2012-07-02       1016.0       1015.5       1.0       3.0     11.3     16.1   \n",
       "2012-07-03       1020.3       1018.1       1.0       5.0      9.6     15.8   \n",
       "2012-07-04       1024.6       1025.1       3.0       7.0      9.6     15.9   \n",
       "2012-07-05       1031.0       1030.1       5.0       7.0     10.7     13.6   \n",
       "\n",
       "            RainToday  RISK_MM  RainTomorrow  \n",
       "Date                                          \n",
       "2012-07-01         No      0.0            No  \n",
       "2012-07-02         No      0.0            No  \n",
       "2012-07-03         No      0.0            No  \n",
       "2012-07-04         No      4.0           Yes  \n",
       "2012-07-05        Yes     19.0           Yes  \n",
       "\n",
       "[5 rows x 23 columns]"
      ]
     },
     "execution_count": 171,
     "metadata": {},
     "output_type": "execute_result"
    }
   ],
   "source": [
    "weather_syd.head()"
   ]
  },
  {
   "cell_type": "markdown",
   "metadata": {},
   "source": [
    "## Joining the datasets:\n",
    "We can now join the 5 datasets to form 1 dataset:"
   ]
  },
  {
   "cell_type": "code",
   "execution_count": 172,
   "metadata": {},
   "outputs": [],
   "source": [
    "# join all datasets\n",
    "join1 = pd.concat([weather_syd, max_temp_final], axis = 1)\n",
    "join2 = pd.concat([join1, min_temp_final], axis = 1)\n",
    "join3 = pd.concat([join2, rainfall_final], axis = 1)\n",
    "weather_syd2 = pd.concat([join3, solar_exp_final], axis = 1)"
   ]
  },
  {
   "cell_type": "markdown",
   "metadata": {},
   "source": [
    "We now have one dataset with all our data:"
   ]
  },
  {
   "cell_type": "code",
   "execution_count": 173,
   "metadata": {},
   "outputs": [
    {
     "data": {
      "text/html": [
       "<div>\n",
       "<style scoped>\n",
       "    .dataframe tbody tr th:only-of-type {\n",
       "        vertical-align: middle;\n",
       "    }\n",
       "\n",
       "    .dataframe tbody tr th {\n",
       "        vertical-align: top;\n",
       "    }\n",
       "\n",
       "    .dataframe thead th {\n",
       "        text-align: right;\n",
       "    }\n",
       "</style>\n",
       "<table border=\"1\" class=\"dataframe\">\n",
       "  <thead>\n",
       "    <tr style=\"text-align: right;\">\n",
       "      <th></th>\n",
       "      <th>Location</th>\n",
       "      <th>MinTemp</th>\n",
       "      <th>MaxTemp</th>\n",
       "      <th>Rainfall</th>\n",
       "      <th>Evaporation</th>\n",
       "      <th>Sunshine</th>\n",
       "      <th>WindGustDir</th>\n",
       "      <th>WindGustSpeed</th>\n",
       "      <th>WindDir9am</th>\n",
       "      <th>WindDir3pm</th>\n",
       "      <th>...</th>\n",
       "      <th>Cloud3pm</th>\n",
       "      <th>Temp9am</th>\n",
       "      <th>Temp3pm</th>\n",
       "      <th>RainToday</th>\n",
       "      <th>RISK_MM</th>\n",
       "      <th>RainTomorrow</th>\n",
       "      <th>Maximum temperature (Degree C)</th>\n",
       "      <th>Minimum temperature (Degree C)</th>\n",
       "      <th>Rainfall amount (millimetres)</th>\n",
       "      <th>Daily global solar exposure (MJ/m*m)</th>\n",
       "    </tr>\n",
       "    <tr>\n",
       "      <th>Date</th>\n",
       "      <th></th>\n",
       "      <th></th>\n",
       "      <th></th>\n",
       "      <th></th>\n",
       "      <th></th>\n",
       "      <th></th>\n",
       "      <th></th>\n",
       "      <th></th>\n",
       "      <th></th>\n",
       "      <th></th>\n",
       "      <th></th>\n",
       "      <th></th>\n",
       "      <th></th>\n",
       "      <th></th>\n",
       "      <th></th>\n",
       "      <th></th>\n",
       "      <th></th>\n",
       "      <th></th>\n",
       "      <th></th>\n",
       "      <th></th>\n",
       "      <th></th>\n",
       "    </tr>\n",
       "  </thead>\n",
       "  <tbody>\n",
       "    <tr>\n",
       "      <th>2012-07-01</th>\n",
       "      <td>Sydney</td>\n",
       "      <td>9.9</td>\n",
       "      <td>16.1</td>\n",
       "      <td>0.0</td>\n",
       "      <td>3.0</td>\n",
       "      <td>5.9</td>\n",
       "      <td>WSW</td>\n",
       "      <td>44.0</td>\n",
       "      <td>W</td>\n",
       "      <td>W</td>\n",
       "      <td>...</td>\n",
       "      <td>2.0</td>\n",
       "      <td>10.4</td>\n",
       "      <td>15.8</td>\n",
       "      <td>No</td>\n",
       "      <td>0.0</td>\n",
       "      <td>No</td>\n",
       "      <td>16.1</td>\n",
       "      <td>9.9</td>\n",
       "      <td>0.0</td>\n",
       "      <td>7.3</td>\n",
       "    </tr>\n",
       "    <tr>\n",
       "      <th>2012-07-02</th>\n",
       "      <td>Sydney</td>\n",
       "      <td>7.5</td>\n",
       "      <td>16.8</td>\n",
       "      <td>0.0</td>\n",
       "      <td>3.8</td>\n",
       "      <td>9.6</td>\n",
       "      <td>W</td>\n",
       "      <td>52.0</td>\n",
       "      <td>W</td>\n",
       "      <td>WSW</td>\n",
       "      <td>...</td>\n",
       "      <td>3.0</td>\n",
       "      <td>11.3</td>\n",
       "      <td>16.1</td>\n",
       "      <td>No</td>\n",
       "      <td>0.0</td>\n",
       "      <td>No</td>\n",
       "      <td>16.8</td>\n",
       "      <td>7.5</td>\n",
       "      <td>0.0</td>\n",
       "      <td>9.4</td>\n",
       "    </tr>\n",
       "    <tr>\n",
       "      <th>2012-07-03</th>\n",
       "      <td>Sydney</td>\n",
       "      <td>7.7</td>\n",
       "      <td>16.8</td>\n",
       "      <td>0.0</td>\n",
       "      <td>2.8</td>\n",
       "      <td>9.5</td>\n",
       "      <td>NaN</td>\n",
       "      <td>NaN</td>\n",
       "      <td>W</td>\n",
       "      <td>S</td>\n",
       "      <td>...</td>\n",
       "      <td>5.0</td>\n",
       "      <td>9.6</td>\n",
       "      <td>15.8</td>\n",
       "      <td>No</td>\n",
       "      <td>0.0</td>\n",
       "      <td>No</td>\n",
       "      <td>16.8</td>\n",
       "      <td>7.7</td>\n",
       "      <td>0.0</td>\n",
       "      <td>9.9</td>\n",
       "    </tr>\n",
       "    <tr>\n",
       "      <th>2012-07-04</th>\n",
       "      <td>Sydney</td>\n",
       "      <td>7.2</td>\n",
       "      <td>16.2</td>\n",
       "      <td>0.0</td>\n",
       "      <td>3.6</td>\n",
       "      <td>6.4</td>\n",
       "      <td>NaN</td>\n",
       "      <td>NaN</td>\n",
       "      <td>W</td>\n",
       "      <td>SSW</td>\n",
       "      <td>...</td>\n",
       "      <td>7.0</td>\n",
       "      <td>9.6</td>\n",
       "      <td>15.9</td>\n",
       "      <td>No</td>\n",
       "      <td>4.0</td>\n",
       "      <td>Yes</td>\n",
       "      <td>16.2</td>\n",
       "      <td>7.2</td>\n",
       "      <td>0.0</td>\n",
       "      <td>9.4</td>\n",
       "    </tr>\n",
       "    <tr>\n",
       "      <th>2012-07-05</th>\n",
       "      <td>Sydney</td>\n",
       "      <td>8.7</td>\n",
       "      <td>14.9</td>\n",
       "      <td>4.0</td>\n",
       "      <td>2.6</td>\n",
       "      <td>4.5</td>\n",
       "      <td>SSW</td>\n",
       "      <td>44.0</td>\n",
       "      <td>W</td>\n",
       "      <td>SSW</td>\n",
       "      <td>...</td>\n",
       "      <td>7.0</td>\n",
       "      <td>10.7</td>\n",
       "      <td>13.6</td>\n",
       "      <td>Yes</td>\n",
       "      <td>19.0</td>\n",
       "      <td>Yes</td>\n",
       "      <td>14.9</td>\n",
       "      <td>8.7</td>\n",
       "      <td>4.0</td>\n",
       "      <td>6.7</td>\n",
       "    </tr>\n",
       "  </tbody>\n",
       "</table>\n",
       "<p>5 rows × 27 columns</p>\n",
       "</div>"
      ],
      "text/plain": [
       "           Location  MinTemp  MaxTemp  Rainfall  Evaporation  Sunshine  \\\n",
       "Date                                                                     \n",
       "2012-07-01   Sydney      9.9     16.1       0.0          3.0       5.9   \n",
       "2012-07-02   Sydney      7.5     16.8       0.0          3.8       9.6   \n",
       "2012-07-03   Sydney      7.7     16.8       0.0          2.8       9.5   \n",
       "2012-07-04   Sydney      7.2     16.2       0.0          3.6       6.4   \n",
       "2012-07-05   Sydney      8.7     14.9       4.0          2.6       4.5   \n",
       "\n",
       "           WindGustDir  WindGustSpeed WindDir9am WindDir3pm  ...  Cloud3pm  \\\n",
       "Date                                                         ...             \n",
       "2012-07-01         WSW           44.0          W          W  ...       2.0   \n",
       "2012-07-02           W           52.0          W        WSW  ...       3.0   \n",
       "2012-07-03         NaN            NaN          W          S  ...       5.0   \n",
       "2012-07-04         NaN            NaN          W        SSW  ...       7.0   \n",
       "2012-07-05         SSW           44.0          W        SSW  ...       7.0   \n",
       "\n",
       "            Temp9am  Temp3pm  RainToday  RISK_MM  RainTomorrow  \\\n",
       "Date                                                             \n",
       "2012-07-01     10.4     15.8         No      0.0            No   \n",
       "2012-07-02     11.3     16.1         No      0.0            No   \n",
       "2012-07-03      9.6     15.8         No      0.0            No   \n",
       "2012-07-04      9.6     15.9         No      4.0           Yes   \n",
       "2012-07-05     10.7     13.6        Yes     19.0           Yes   \n",
       "\n",
       "            Maximum temperature (Degree C)  Minimum temperature (Degree C)  \\\n",
       "Date                                                                         \n",
       "2012-07-01                            16.1                             9.9   \n",
       "2012-07-02                            16.8                             7.5   \n",
       "2012-07-03                            16.8                             7.7   \n",
       "2012-07-04                            16.2                             7.2   \n",
       "2012-07-05                            14.9                             8.7   \n",
       "\n",
       "            Rainfall amount (millimetres)  \\\n",
       "Date                                        \n",
       "2012-07-01                            0.0   \n",
       "2012-07-02                            0.0   \n",
       "2012-07-03                            0.0   \n",
       "2012-07-04                            0.0   \n",
       "2012-07-05                            4.0   \n",
       "\n",
       "            Daily global solar exposure (MJ/m*m)  \n",
       "Date                                              \n",
       "2012-07-01                                   7.3  \n",
       "2012-07-02                                   9.4  \n",
       "2012-07-03                                   9.9  \n",
       "2012-07-04                                   9.4  \n",
       "2012-07-05                                   6.7  \n",
       "\n",
       "[5 rows x 27 columns]"
      ]
     },
     "execution_count": 173,
     "metadata": {},
     "output_type": "execute_result"
    }
   ],
   "source": [
    "weather_syd2.head()"
   ]
  },
  {
   "cell_type": "markdown",
   "metadata": {},
   "source": [
    "However, looking at the dataset, there are still a few issues that must be fixed before we can begin analysis:"
   ]
  },
  {
   "cell_type": "markdown",
   "metadata": {},
   "source": [
    "We begin by removing rows that contain any NaN values"
   ]
  },
  {
   "cell_type": "code",
   "execution_count": 174,
   "metadata": {},
   "outputs": [],
   "source": [
    "weather_syd_dropna = weather_syd2.dropna()"
   ]
  },
  {
   "cell_type": "markdown",
   "metadata": {},
   "source": [
    "Looking at the shapes of the datasets, we can see that we have dropped 170 daily readings because of missing values. This is the best approach as it provides a full dataset and doesnt detract enough readings to reduce the accuracy of our analysis."
   ]
  },
  {
   "cell_type": "code",
   "execution_count": 175,
   "metadata": {},
   "outputs": [
    {
     "name": "stdout",
     "output_type": "stream",
     "text": [
      "With NaN values:  (1821, 27)\n",
      "NaN values removed:  (1651, 27)\n"
     ]
    }
   ],
   "source": [
    "print('With NaN values: ', weather_syd2.shape)\n",
    "print('NaN values removed: ', weather_syd_dropna.shape)"
   ]
  },
  {
   "cell_type": "markdown",
   "metadata": {},
   "source": [
    "In order to conduct our analysis we need to change the categorical variables. In this dataset we have three categorical variables, 'WindGustDir', 'WindDir9am' and 'WindDir3pm'. \n",
    "<br>\n",
    "To convert these variables we utilise pandas 'get_dummies', which converts categorical variables to dummy/indicator variables."
   ]
  },
  {
   "cell_type": "code",
   "execution_count": 176,
   "metadata": {},
   "outputs": [],
   "source": [
    "wind_gust_dir = pd.get_dummies(weather_syd_dropna['WindGustDir'], prefix = 'gust_dir')\n",
    "wind_dir_9am = pd.get_dummies(weather_syd_dropna['WindDir9am'], prefix = '9am_wind_dir')\n",
    "wind_dir_3pm = pd.get_dummies(weather_syd_dropna['WindDir3pm'], prefix = '3pm_wind_dir')"
   ]
  },
  {
   "cell_type": "markdown",
   "metadata": {},
   "source": [
    "Here is the outcome of using get dummies on WindGustDir:"
   ]
  },
  {
   "cell_type": "code",
   "execution_count": 177,
   "metadata": {},
   "outputs": [
    {
     "data": {
      "text/html": [
       "<div>\n",
       "<style scoped>\n",
       "    .dataframe tbody tr th:only-of-type {\n",
       "        vertical-align: middle;\n",
       "    }\n",
       "\n",
       "    .dataframe tbody tr th {\n",
       "        vertical-align: top;\n",
       "    }\n",
       "\n",
       "    .dataframe thead th {\n",
       "        text-align: right;\n",
       "    }\n",
       "</style>\n",
       "<table border=\"1\" class=\"dataframe\">\n",
       "  <thead>\n",
       "    <tr style=\"text-align: right;\">\n",
       "      <th></th>\n",
       "      <th>gust_dir_E</th>\n",
       "      <th>gust_dir_ENE</th>\n",
       "      <th>gust_dir_ESE</th>\n",
       "      <th>gust_dir_N</th>\n",
       "      <th>gust_dir_NE</th>\n",
       "      <th>gust_dir_NNE</th>\n",
       "      <th>gust_dir_NNW</th>\n",
       "      <th>gust_dir_NW</th>\n",
       "      <th>gust_dir_S</th>\n",
       "      <th>gust_dir_SE</th>\n",
       "      <th>gust_dir_SSE</th>\n",
       "      <th>gust_dir_SSW</th>\n",
       "      <th>gust_dir_SW</th>\n",
       "      <th>gust_dir_W</th>\n",
       "      <th>gust_dir_WNW</th>\n",
       "      <th>gust_dir_WSW</th>\n",
       "    </tr>\n",
       "    <tr>\n",
       "      <th>Date</th>\n",
       "      <th></th>\n",
       "      <th></th>\n",
       "      <th></th>\n",
       "      <th></th>\n",
       "      <th></th>\n",
       "      <th></th>\n",
       "      <th></th>\n",
       "      <th></th>\n",
       "      <th></th>\n",
       "      <th></th>\n",
       "      <th></th>\n",
       "      <th></th>\n",
       "      <th></th>\n",
       "      <th></th>\n",
       "      <th></th>\n",
       "      <th></th>\n",
       "    </tr>\n",
       "  </thead>\n",
       "  <tbody>\n",
       "    <tr>\n",
       "      <th>2012-07-01</th>\n",
       "      <td>0</td>\n",
       "      <td>0</td>\n",
       "      <td>0</td>\n",
       "      <td>0</td>\n",
       "      <td>0</td>\n",
       "      <td>0</td>\n",
       "      <td>0</td>\n",
       "      <td>0</td>\n",
       "      <td>0</td>\n",
       "      <td>0</td>\n",
       "      <td>0</td>\n",
       "      <td>0</td>\n",
       "      <td>0</td>\n",
       "      <td>0</td>\n",
       "      <td>0</td>\n",
       "      <td>1</td>\n",
       "    </tr>\n",
       "    <tr>\n",
       "      <th>2012-07-02</th>\n",
       "      <td>0</td>\n",
       "      <td>0</td>\n",
       "      <td>0</td>\n",
       "      <td>0</td>\n",
       "      <td>0</td>\n",
       "      <td>0</td>\n",
       "      <td>0</td>\n",
       "      <td>0</td>\n",
       "      <td>0</td>\n",
       "      <td>0</td>\n",
       "      <td>0</td>\n",
       "      <td>0</td>\n",
       "      <td>0</td>\n",
       "      <td>1</td>\n",
       "      <td>0</td>\n",
       "      <td>0</td>\n",
       "    </tr>\n",
       "    <tr>\n",
       "      <th>2012-07-05</th>\n",
       "      <td>0</td>\n",
       "      <td>0</td>\n",
       "      <td>0</td>\n",
       "      <td>0</td>\n",
       "      <td>0</td>\n",
       "      <td>0</td>\n",
       "      <td>0</td>\n",
       "      <td>0</td>\n",
       "      <td>0</td>\n",
       "      <td>0</td>\n",
       "      <td>0</td>\n",
       "      <td>1</td>\n",
       "      <td>0</td>\n",
       "      <td>0</td>\n",
       "      <td>0</td>\n",
       "      <td>0</td>\n",
       "    </tr>\n",
       "    <tr>\n",
       "      <th>2012-07-06</th>\n",
       "      <td>0</td>\n",
       "      <td>0</td>\n",
       "      <td>0</td>\n",
       "      <td>0</td>\n",
       "      <td>0</td>\n",
       "      <td>0</td>\n",
       "      <td>0</td>\n",
       "      <td>0</td>\n",
       "      <td>0</td>\n",
       "      <td>0</td>\n",
       "      <td>0</td>\n",
       "      <td>1</td>\n",
       "      <td>0</td>\n",
       "      <td>0</td>\n",
       "      <td>0</td>\n",
       "      <td>0</td>\n",
       "    </tr>\n",
       "    <tr>\n",
       "      <th>2012-07-07</th>\n",
       "      <td>0</td>\n",
       "      <td>0</td>\n",
       "      <td>0</td>\n",
       "      <td>0</td>\n",
       "      <td>0</td>\n",
       "      <td>0</td>\n",
       "      <td>0</td>\n",
       "      <td>0</td>\n",
       "      <td>0</td>\n",
       "      <td>0</td>\n",
       "      <td>0</td>\n",
       "      <td>0</td>\n",
       "      <td>0</td>\n",
       "      <td>1</td>\n",
       "      <td>0</td>\n",
       "      <td>0</td>\n",
       "    </tr>\n",
       "  </tbody>\n",
       "</table>\n",
       "</div>"
      ],
      "text/plain": [
       "            gust_dir_E  gust_dir_ENE  gust_dir_ESE  gust_dir_N  gust_dir_NE  \\\n",
       "Date                                                                          \n",
       "2012-07-01           0             0             0           0            0   \n",
       "2012-07-02           0             0             0           0            0   \n",
       "2012-07-05           0             0             0           0            0   \n",
       "2012-07-06           0             0             0           0            0   \n",
       "2012-07-07           0             0             0           0            0   \n",
       "\n",
       "            gust_dir_NNE  gust_dir_NNW  gust_dir_NW  gust_dir_S  gust_dir_SE  \\\n",
       "Date                                                                           \n",
       "2012-07-01             0             0            0           0            0   \n",
       "2012-07-02             0             0            0           0            0   \n",
       "2012-07-05             0             0            0           0            0   \n",
       "2012-07-06             0             0            0           0            0   \n",
       "2012-07-07             0             0            0           0            0   \n",
       "\n",
       "            gust_dir_SSE  gust_dir_SSW  gust_dir_SW  gust_dir_W  gust_dir_WNW  \\\n",
       "Date                                                                            \n",
       "2012-07-01             0             0            0           0             0   \n",
       "2012-07-02             0             0            0           1             0   \n",
       "2012-07-05             0             1            0           0             0   \n",
       "2012-07-06             0             1            0           0             0   \n",
       "2012-07-07             0             0            0           1             0   \n",
       "\n",
       "            gust_dir_WSW  \n",
       "Date                      \n",
       "2012-07-01             1  \n",
       "2012-07-02             0  \n",
       "2012-07-05             0  \n",
       "2012-07-06             0  \n",
       "2012-07-07             0  "
      ]
     },
     "execution_count": 177,
     "metadata": {},
     "output_type": "execute_result"
    }
   ],
   "source": [
    "wind_gust_dir.head()"
   ]
  },
  {
   "cell_type": "markdown",
   "metadata": {},
   "source": [
    "There remains a few unwanted columns in the dataset that were merged from the complete dataset that are either unnecessary or duplicates. We will drop these columns:"
   ]
  },
  {
   "cell_type": "code",
   "execution_count": 178,
   "metadata": {},
   "outputs": [],
   "source": [
    "weather_syd_dropcols = weather_syd_dropna.drop(columns = ['WindGustDir', 'WindDir9am', 'WindDir3pm', 'Location', 'RainToday', 'RainTomorrow', 'RISK_MM', 'MinTemp', 'MaxTemp', 'Rainfall'])"
   ]
  },
  {
   "cell_type": "markdown",
   "metadata": {},
   "source": [
    "Now we can add our dummy variables to our main dataset:"
   ]
  },
  {
   "cell_type": "code",
   "execution_count": 179,
   "metadata": {},
   "outputs": [],
   "source": [
    "df1 = pd.concat([weather_syd_dropcols, wind_gust_dir], axis = 1)\n",
    "df2 = pd.concat([df1, wind_dir_9am], axis = 1)\n",
    "df3 = pd.concat([df2, wind_dir_3pm], axis = 1)\n",
    "final_data = df3"
   ]
  },
  {
   "cell_type": "markdown",
   "metadata": {},
   "source": [
    "We now have our final data set (final_data) which has been cleaned and is ready for analysis."
   ]
  },
  {
   "cell_type": "markdown",
   "metadata": {},
   "source": [
    "### Finalised Data:"
   ]
  },
  {
   "cell_type": "code",
   "execution_count": 180,
   "metadata": {},
   "outputs": [
    {
     "data": {
      "text/html": [
       "<div>\n",
       "<style scoped>\n",
       "    .dataframe tbody tr th:only-of-type {\n",
       "        vertical-align: middle;\n",
       "    }\n",
       "\n",
       "    .dataframe tbody tr th {\n",
       "        vertical-align: top;\n",
       "    }\n",
       "\n",
       "    .dataframe thead th {\n",
       "        text-align: right;\n",
       "    }\n",
       "</style>\n",
       "<table border=\"1\" class=\"dataframe\">\n",
       "  <thead>\n",
       "    <tr style=\"text-align: right;\">\n",
       "      <th></th>\n",
       "      <th>Evaporation</th>\n",
       "      <th>Sunshine</th>\n",
       "      <th>WindGustSpeed</th>\n",
       "      <th>WindSpeed9am</th>\n",
       "      <th>WindSpeed3pm</th>\n",
       "      <th>Humidity9am</th>\n",
       "      <th>Humidity3pm</th>\n",
       "      <th>Pressure9am</th>\n",
       "      <th>Pressure3pm</th>\n",
       "      <th>Cloud9am</th>\n",
       "      <th>...</th>\n",
       "      <th>3pm_wind_dir_NNW</th>\n",
       "      <th>3pm_wind_dir_NW</th>\n",
       "      <th>3pm_wind_dir_S</th>\n",
       "      <th>3pm_wind_dir_SE</th>\n",
       "      <th>3pm_wind_dir_SSE</th>\n",
       "      <th>3pm_wind_dir_SSW</th>\n",
       "      <th>3pm_wind_dir_SW</th>\n",
       "      <th>3pm_wind_dir_W</th>\n",
       "      <th>3pm_wind_dir_WNW</th>\n",
       "      <th>3pm_wind_dir_WSW</th>\n",
       "    </tr>\n",
       "    <tr>\n",
       "      <th>Date</th>\n",
       "      <th></th>\n",
       "      <th></th>\n",
       "      <th></th>\n",
       "      <th></th>\n",
       "      <th></th>\n",
       "      <th></th>\n",
       "      <th></th>\n",
       "      <th></th>\n",
       "      <th></th>\n",
       "      <th></th>\n",
       "      <th></th>\n",
       "      <th></th>\n",
       "      <th></th>\n",
       "      <th></th>\n",
       "      <th></th>\n",
       "      <th></th>\n",
       "      <th></th>\n",
       "      <th></th>\n",
       "      <th></th>\n",
       "      <th></th>\n",
       "      <th></th>\n",
       "    </tr>\n",
       "  </thead>\n",
       "  <tbody>\n",
       "    <tr>\n",
       "      <th>2012-07-01</th>\n",
       "      <td>3.0</td>\n",
       "      <td>5.9</td>\n",
       "      <td>44.0</td>\n",
       "      <td>15.0</td>\n",
       "      <td>28.0</td>\n",
       "      <td>69.0</td>\n",
       "      <td>28.0</td>\n",
       "      <td>1016.2</td>\n",
       "      <td>1013.4</td>\n",
       "      <td>6.0</td>\n",
       "      <td>...</td>\n",
       "      <td>0</td>\n",
       "      <td>0</td>\n",
       "      <td>0</td>\n",
       "      <td>0</td>\n",
       "      <td>0</td>\n",
       "      <td>0</td>\n",
       "      <td>0</td>\n",
       "      <td>1</td>\n",
       "      <td>0</td>\n",
       "      <td>0</td>\n",
       "    </tr>\n",
       "    <tr>\n",
       "      <th>2012-07-02</th>\n",
       "      <td>3.8</td>\n",
       "      <td>9.6</td>\n",
       "      <td>52.0</td>\n",
       "      <td>28.0</td>\n",
       "      <td>24.0</td>\n",
       "      <td>56.0</td>\n",
       "      <td>36.0</td>\n",
       "      <td>1016.0</td>\n",
       "      <td>1015.5</td>\n",
       "      <td>1.0</td>\n",
       "      <td>...</td>\n",
       "      <td>0</td>\n",
       "      <td>0</td>\n",
       "      <td>0</td>\n",
       "      <td>0</td>\n",
       "      <td>0</td>\n",
       "      <td>0</td>\n",
       "      <td>0</td>\n",
       "      <td>0</td>\n",
       "      <td>0</td>\n",
       "      <td>1</td>\n",
       "    </tr>\n",
       "    <tr>\n",
       "      <th>2012-07-05</th>\n",
       "      <td>2.6</td>\n",
       "      <td>4.5</td>\n",
       "      <td>44.0</td>\n",
       "      <td>17.0</td>\n",
       "      <td>24.0</td>\n",
       "      <td>75.0</td>\n",
       "      <td>72.0</td>\n",
       "      <td>1031.0</td>\n",
       "      <td>1030.1</td>\n",
       "      <td>5.0</td>\n",
       "      <td>...</td>\n",
       "      <td>0</td>\n",
       "      <td>0</td>\n",
       "      <td>0</td>\n",
       "      <td>0</td>\n",
       "      <td>0</td>\n",
       "      <td>1</td>\n",
       "      <td>0</td>\n",
       "      <td>0</td>\n",
       "      <td>0</td>\n",
       "      <td>0</td>\n",
       "    </tr>\n",
       "    <tr>\n",
       "      <th>2012-07-06</th>\n",
       "      <td>1.8</td>\n",
       "      <td>5.8</td>\n",
       "      <td>44.0</td>\n",
       "      <td>17.0</td>\n",
       "      <td>22.0</td>\n",
       "      <td>89.0</td>\n",
       "      <td>52.0</td>\n",
       "      <td>1033.1</td>\n",
       "      <td>1031.4</td>\n",
       "      <td>4.0</td>\n",
       "      <td>...</td>\n",
       "      <td>0</td>\n",
       "      <td>0</td>\n",
       "      <td>1</td>\n",
       "      <td>0</td>\n",
       "      <td>0</td>\n",
       "      <td>0</td>\n",
       "      <td>0</td>\n",
       "      <td>0</td>\n",
       "      <td>0</td>\n",
       "      <td>0</td>\n",
       "    </tr>\n",
       "    <tr>\n",
       "      <th>2012-07-07</th>\n",
       "      <td>2.4</td>\n",
       "      <td>0.7</td>\n",
       "      <td>31.0</td>\n",
       "      <td>24.0</td>\n",
       "      <td>11.0</td>\n",
       "      <td>86.0</td>\n",
       "      <td>71.0</td>\n",
       "      <td>1032.5</td>\n",
       "      <td>1030.5</td>\n",
       "      <td>7.0</td>\n",
       "      <td>...</td>\n",
       "      <td>0</td>\n",
       "      <td>0</td>\n",
       "      <td>0</td>\n",
       "      <td>0</td>\n",
       "      <td>0</td>\n",
       "      <td>0</td>\n",
       "      <td>1</td>\n",
       "      <td>0</td>\n",
       "      <td>0</td>\n",
       "      <td>0</td>\n",
       "    </tr>\n",
       "  </tbody>\n",
       "</table>\n",
       "<p>5 rows × 65 columns</p>\n",
       "</div>"
      ],
      "text/plain": [
       "            Evaporation  Sunshine  WindGustSpeed  WindSpeed9am  WindSpeed3pm  \\\n",
       "Date                                                                           \n",
       "2012-07-01          3.0       5.9           44.0          15.0          28.0   \n",
       "2012-07-02          3.8       9.6           52.0          28.0          24.0   \n",
       "2012-07-05          2.6       4.5           44.0          17.0          24.0   \n",
       "2012-07-06          1.8       5.8           44.0          17.0          22.0   \n",
       "2012-07-07          2.4       0.7           31.0          24.0          11.0   \n",
       "\n",
       "            Humidity9am  Humidity3pm  Pressure9am  Pressure3pm  Cloud9am  ...  \\\n",
       "Date                                                                      ...   \n",
       "2012-07-01         69.0         28.0       1016.2       1013.4       6.0  ...   \n",
       "2012-07-02         56.0         36.0       1016.0       1015.5       1.0  ...   \n",
       "2012-07-05         75.0         72.0       1031.0       1030.1       5.0  ...   \n",
       "2012-07-06         89.0         52.0       1033.1       1031.4       4.0  ...   \n",
       "2012-07-07         86.0         71.0       1032.5       1030.5       7.0  ...   \n",
       "\n",
       "            3pm_wind_dir_NNW  3pm_wind_dir_NW  3pm_wind_dir_S  \\\n",
       "Date                                                            \n",
       "2012-07-01                 0                0               0   \n",
       "2012-07-02                 0                0               0   \n",
       "2012-07-05                 0                0               0   \n",
       "2012-07-06                 0                0               1   \n",
       "2012-07-07                 0                0               0   \n",
       "\n",
       "            3pm_wind_dir_SE  3pm_wind_dir_SSE  3pm_wind_dir_SSW  \\\n",
       "Date                                                              \n",
       "2012-07-01                0                 0                 0   \n",
       "2012-07-02                0                 0                 0   \n",
       "2012-07-05                0                 0                 1   \n",
       "2012-07-06                0                 0                 0   \n",
       "2012-07-07                0                 0                 0   \n",
       "\n",
       "            3pm_wind_dir_SW  3pm_wind_dir_W  3pm_wind_dir_WNW  \\\n",
       "Date                                                            \n",
       "2012-07-01                0               1                 0   \n",
       "2012-07-02                0               0                 0   \n",
       "2012-07-05                0               0                 0   \n",
       "2012-07-06                0               0                 0   \n",
       "2012-07-07                1               0                 0   \n",
       "\n",
       "            3pm_wind_dir_WSW  \n",
       "Date                          \n",
       "2012-07-01                 0  \n",
       "2012-07-02                 1  \n",
       "2012-07-05                 0  \n",
       "2012-07-06                 0  \n",
       "2012-07-07                 0  \n",
       "\n",
       "[5 rows x 65 columns]"
      ]
     },
     "execution_count": 180,
     "metadata": {},
     "output_type": "execute_result"
    }
   ],
   "source": [
    "# finalised dataset\n",
    "final_data.head()"
   ]
  },
  {
   "cell_type": "markdown",
   "metadata": {},
   "source": [
    "### Variables in our dataset:"
   ]
  },
  {
   "cell_type": "code",
   "execution_count": 181,
   "metadata": {},
   "outputs": [
    {
     "name": "stdout",
     "output_type": "stream",
     "text": [
      "Evaporation\n",
      "Sunshine\n",
      "WindGustSpeed\n",
      "WindSpeed9am\n",
      "WindSpeed3pm\n",
      "Humidity9am\n",
      "Humidity3pm\n",
      "Pressure9am\n",
      "Pressure3pm\n",
      "Cloud9am\n",
      "Cloud3pm\n",
      "Temp9am\n",
      "Temp3pm\n",
      "Maximum temperature (Degree C)\n",
      "Minimum temperature (Degree C)\n",
      "Rainfall amount (millimetres)\n",
      "Daily global solar exposure (MJ/m*m)\n",
      "gust_dir_E\n",
      "gust_dir_ENE\n",
      "gust_dir_ESE\n",
      "gust_dir_N\n",
      "gust_dir_NE\n",
      "gust_dir_NNE\n",
      "gust_dir_NNW\n",
      "gust_dir_NW\n",
      "gust_dir_S\n",
      "gust_dir_SE\n",
      "gust_dir_SSE\n",
      "gust_dir_SSW\n",
      "gust_dir_SW\n",
      "gust_dir_W\n",
      "gust_dir_WNW\n",
      "gust_dir_WSW\n",
      "9am_wind_dir_E\n",
      "9am_wind_dir_ENE\n",
      "9am_wind_dir_ESE\n",
      "9am_wind_dir_N\n",
      "9am_wind_dir_NE\n",
      "9am_wind_dir_NNE\n",
      "9am_wind_dir_NNW\n",
      "9am_wind_dir_NW\n",
      "9am_wind_dir_S\n",
      "9am_wind_dir_SE\n",
      "9am_wind_dir_SSE\n",
      "9am_wind_dir_SSW\n",
      "9am_wind_dir_SW\n",
      "9am_wind_dir_W\n",
      "9am_wind_dir_WNW\n",
      "9am_wind_dir_WSW\n",
      "3pm_wind_dir_E\n",
      "3pm_wind_dir_ENE\n",
      "3pm_wind_dir_ESE\n",
      "3pm_wind_dir_N\n",
      "3pm_wind_dir_NE\n",
      "3pm_wind_dir_NNE\n",
      "3pm_wind_dir_NNW\n",
      "3pm_wind_dir_NW\n",
      "3pm_wind_dir_S\n",
      "3pm_wind_dir_SE\n",
      "3pm_wind_dir_SSE\n",
      "3pm_wind_dir_SSW\n",
      "3pm_wind_dir_SW\n",
      "3pm_wind_dir_W\n",
      "3pm_wind_dir_WNW\n",
      "3pm_wind_dir_WSW\n"
     ]
    }
   ],
   "source": [
    "for col in final_data.columns:\n",
    "    print(col)"
   ]
  },
  {
   "cell_type": "markdown",
   "metadata": {},
   "source": [
    "# Analysis:"
   ]
  },
  {
   "cell_type": "code",
   "execution_count": 182,
   "metadata": {},
   "outputs": [
    {
     "data": {
      "text/html": [
       "<div>\n",
       "<style scoped>\n",
       "    .dataframe tbody tr th:only-of-type {\n",
       "        vertical-align: middle;\n",
       "    }\n",
       "\n",
       "    .dataframe tbody tr th {\n",
       "        vertical-align: top;\n",
       "    }\n",
       "\n",
       "    .dataframe thead th {\n",
       "        text-align: right;\n",
       "    }\n",
       "</style>\n",
       "<table border=\"1\" class=\"dataframe\">\n",
       "  <thead>\n",
       "    <tr style=\"text-align: right;\">\n",
       "      <th></th>\n",
       "      <th>Evaporation</th>\n",
       "      <th>Sunshine</th>\n",
       "      <th>WindGustSpeed</th>\n",
       "      <th>WindSpeed9am</th>\n",
       "      <th>WindSpeed3pm</th>\n",
       "      <th>Humidity9am</th>\n",
       "      <th>Humidity3pm</th>\n",
       "      <th>Pressure9am</th>\n",
       "      <th>Pressure3pm</th>\n",
       "      <th>Cloud9am</th>\n",
       "      <th>...</th>\n",
       "      <th>3pm_wind_dir_NNW</th>\n",
       "      <th>3pm_wind_dir_NW</th>\n",
       "      <th>3pm_wind_dir_S</th>\n",
       "      <th>3pm_wind_dir_SE</th>\n",
       "      <th>3pm_wind_dir_SSE</th>\n",
       "      <th>3pm_wind_dir_SSW</th>\n",
       "      <th>3pm_wind_dir_SW</th>\n",
       "      <th>3pm_wind_dir_W</th>\n",
       "      <th>3pm_wind_dir_WNW</th>\n",
       "      <th>3pm_wind_dir_WSW</th>\n",
       "    </tr>\n",
       "  </thead>\n",
       "  <tbody>\n",
       "    <tr>\n",
       "      <th>count</th>\n",
       "      <td>1651.000000</td>\n",
       "      <td>1651.000000</td>\n",
       "      <td>1651.000000</td>\n",
       "      <td>1651.000000</td>\n",
       "      <td>1651.000000</td>\n",
       "      <td>1651.000000</td>\n",
       "      <td>1651.000000</td>\n",
       "      <td>1651.000000</td>\n",
       "      <td>1651.000000</td>\n",
       "      <td>1651.000000</td>\n",
       "      <td>...</td>\n",
       "      <td>1651.000000</td>\n",
       "      <td>1651.000000</td>\n",
       "      <td>1651.000000</td>\n",
       "      <td>1651.000000</td>\n",
       "      <td>1651.000000</td>\n",
       "      <td>1651.000000</td>\n",
       "      <td>1651.000000</td>\n",
       "      <td>1651.000000</td>\n",
       "      <td>1651.000000</td>\n",
       "      <td>1651.000000</td>\n",
       "    </tr>\n",
       "    <tr>\n",
       "      <th>mean</th>\n",
       "      <td>5.360085</td>\n",
       "      <td>7.388734</td>\n",
       "      <td>41.497274</td>\n",
       "      <td>15.098122</td>\n",
       "      <td>19.534222</td>\n",
       "      <td>66.218050</td>\n",
       "      <td>52.800727</td>\n",
       "      <td>1018.572744</td>\n",
       "      <td>1016.158571</td>\n",
       "      <td>4.192005</td>\n",
       "      <td>...</td>\n",
       "      <td>0.009085</td>\n",
       "      <td>0.020594</td>\n",
       "      <td>0.069049</td>\n",
       "      <td>0.060569</td>\n",
       "      <td>0.081163</td>\n",
       "      <td>0.049061</td>\n",
       "      <td>0.013325</td>\n",
       "      <td>0.053301</td>\n",
       "      <td>0.062386</td>\n",
       "      <td>0.035736</td>\n",
       "    </tr>\n",
       "    <tr>\n",
       "      <th>std</th>\n",
       "      <td>2.851230</td>\n",
       "      <td>3.729040</td>\n",
       "      <td>12.734699</td>\n",
       "      <td>6.755833</td>\n",
       "      <td>7.325870</td>\n",
       "      <td>15.200588</td>\n",
       "      <td>15.984527</td>\n",
       "      <td>7.062995</td>\n",
       "      <td>7.088463</td>\n",
       "      <td>2.709594</td>\n",
       "      <td>...</td>\n",
       "      <td>0.094912</td>\n",
       "      <td>0.142062</td>\n",
       "      <td>0.253614</td>\n",
       "      <td>0.238611</td>\n",
       "      <td>0.273168</td>\n",
       "      <td>0.216061</td>\n",
       "      <td>0.114698</td>\n",
       "      <td>0.224701</td>\n",
       "      <td>0.241929</td>\n",
       "      <td>0.185687</td>\n",
       "    </tr>\n",
       "    <tr>\n",
       "      <th>min</th>\n",
       "      <td>0.000000</td>\n",
       "      <td>0.000000</td>\n",
       "      <td>17.000000</td>\n",
       "      <td>2.000000</td>\n",
       "      <td>2.000000</td>\n",
       "      <td>19.000000</td>\n",
       "      <td>10.000000</td>\n",
       "      <td>996.500000</td>\n",
       "      <td>994.000000</td>\n",
       "      <td>0.000000</td>\n",
       "      <td>...</td>\n",
       "      <td>0.000000</td>\n",
       "      <td>0.000000</td>\n",
       "      <td>0.000000</td>\n",
       "      <td>0.000000</td>\n",
       "      <td>0.000000</td>\n",
       "      <td>0.000000</td>\n",
       "      <td>0.000000</td>\n",
       "      <td>0.000000</td>\n",
       "      <td>0.000000</td>\n",
       "      <td>0.000000</td>\n",
       "    </tr>\n",
       "    <tr>\n",
       "      <th>25%</th>\n",
       "      <td>3.200000</td>\n",
       "      <td>4.700000</td>\n",
       "      <td>31.000000</td>\n",
       "      <td>11.000000</td>\n",
       "      <td>15.000000</td>\n",
       "      <td>57.000000</td>\n",
       "      <td>42.000000</td>\n",
       "      <td>1014.000000</td>\n",
       "      <td>1011.500000</td>\n",
       "      <td>1.000000</td>\n",
       "      <td>...</td>\n",
       "      <td>0.000000</td>\n",
       "      <td>0.000000</td>\n",
       "      <td>0.000000</td>\n",
       "      <td>0.000000</td>\n",
       "      <td>0.000000</td>\n",
       "      <td>0.000000</td>\n",
       "      <td>0.000000</td>\n",
       "      <td>0.000000</td>\n",
       "      <td>0.000000</td>\n",
       "      <td>0.000000</td>\n",
       "    </tr>\n",
       "    <tr>\n",
       "      <th>50%</th>\n",
       "      <td>5.000000</td>\n",
       "      <td>8.400000</td>\n",
       "      <td>39.000000</td>\n",
       "      <td>15.000000</td>\n",
       "      <td>20.000000</td>\n",
       "      <td>66.000000</td>\n",
       "      <td>54.000000</td>\n",
       "      <td>1018.600000</td>\n",
       "      <td>1016.300000</td>\n",
       "      <td>5.000000</td>\n",
       "      <td>...</td>\n",
       "      <td>0.000000</td>\n",
       "      <td>0.000000</td>\n",
       "      <td>0.000000</td>\n",
       "      <td>0.000000</td>\n",
       "      <td>0.000000</td>\n",
       "      <td>0.000000</td>\n",
       "      <td>0.000000</td>\n",
       "      <td>0.000000</td>\n",
       "      <td>0.000000</td>\n",
       "      <td>0.000000</td>\n",
       "    </tr>\n",
       "    <tr>\n",
       "      <th>75%</th>\n",
       "      <td>7.200000</td>\n",
       "      <td>10.200000</td>\n",
       "      <td>48.000000</td>\n",
       "      <td>20.000000</td>\n",
       "      <td>24.000000</td>\n",
       "      <td>78.000000</td>\n",
       "      <td>63.000000</td>\n",
       "      <td>1023.450000</td>\n",
       "      <td>1021.000000</td>\n",
       "      <td>7.000000</td>\n",
       "      <td>...</td>\n",
       "      <td>0.000000</td>\n",
       "      <td>0.000000</td>\n",
       "      <td>0.000000</td>\n",
       "      <td>0.000000</td>\n",
       "      <td>0.000000</td>\n",
       "      <td>0.000000</td>\n",
       "      <td>0.000000</td>\n",
       "      <td>0.000000</td>\n",
       "      <td>0.000000</td>\n",
       "      <td>0.000000</td>\n",
       "    </tr>\n",
       "    <tr>\n",
       "      <th>max</th>\n",
       "      <td>18.400000</td>\n",
       "      <td>13.600000</td>\n",
       "      <td>96.000000</td>\n",
       "      <td>44.000000</td>\n",
       "      <td>48.000000</td>\n",
       "      <td>100.000000</td>\n",
       "      <td>95.000000</td>\n",
       "      <td>1039.000000</td>\n",
       "      <td>1036.000000</td>\n",
       "      <td>8.000000</td>\n",
       "      <td>...</td>\n",
       "      <td>1.000000</td>\n",
       "      <td>1.000000</td>\n",
       "      <td>1.000000</td>\n",
       "      <td>1.000000</td>\n",
       "      <td>1.000000</td>\n",
       "      <td>1.000000</td>\n",
       "      <td>1.000000</td>\n",
       "      <td>1.000000</td>\n",
       "      <td>1.000000</td>\n",
       "      <td>1.000000</td>\n",
       "    </tr>\n",
       "  </tbody>\n",
       "</table>\n",
       "<p>8 rows × 65 columns</p>\n",
       "</div>"
      ],
      "text/plain": [
       "       Evaporation     Sunshine  WindGustSpeed  WindSpeed9am  WindSpeed3pm  \\\n",
       "count  1651.000000  1651.000000    1651.000000   1651.000000   1651.000000   \n",
       "mean      5.360085     7.388734      41.497274     15.098122     19.534222   \n",
       "std       2.851230     3.729040      12.734699      6.755833      7.325870   \n",
       "min       0.000000     0.000000      17.000000      2.000000      2.000000   \n",
       "25%       3.200000     4.700000      31.000000     11.000000     15.000000   \n",
       "50%       5.000000     8.400000      39.000000     15.000000     20.000000   \n",
       "75%       7.200000    10.200000      48.000000     20.000000     24.000000   \n",
       "max      18.400000    13.600000      96.000000     44.000000     48.000000   \n",
       "\n",
       "       Humidity9am  Humidity3pm  Pressure9am  Pressure3pm     Cloud9am  ...  \\\n",
       "count  1651.000000  1651.000000  1651.000000  1651.000000  1651.000000  ...   \n",
       "mean     66.218050    52.800727  1018.572744  1016.158571     4.192005  ...   \n",
       "std      15.200588    15.984527     7.062995     7.088463     2.709594  ...   \n",
       "min      19.000000    10.000000   996.500000   994.000000     0.000000  ...   \n",
       "25%      57.000000    42.000000  1014.000000  1011.500000     1.000000  ...   \n",
       "50%      66.000000    54.000000  1018.600000  1016.300000     5.000000  ...   \n",
       "75%      78.000000    63.000000  1023.450000  1021.000000     7.000000  ...   \n",
       "max     100.000000    95.000000  1039.000000  1036.000000     8.000000  ...   \n",
       "\n",
       "       3pm_wind_dir_NNW  3pm_wind_dir_NW  3pm_wind_dir_S  3pm_wind_dir_SE  \\\n",
       "count       1651.000000      1651.000000     1651.000000      1651.000000   \n",
       "mean           0.009085         0.020594        0.069049         0.060569   \n",
       "std            0.094912         0.142062        0.253614         0.238611   \n",
       "min            0.000000         0.000000        0.000000         0.000000   \n",
       "25%            0.000000         0.000000        0.000000         0.000000   \n",
       "50%            0.000000         0.000000        0.000000         0.000000   \n",
       "75%            0.000000         0.000000        0.000000         0.000000   \n",
       "max            1.000000         1.000000        1.000000         1.000000   \n",
       "\n",
       "       3pm_wind_dir_SSE  3pm_wind_dir_SSW  3pm_wind_dir_SW  3pm_wind_dir_W  \\\n",
       "count       1651.000000       1651.000000      1651.000000     1651.000000   \n",
       "mean           0.081163          0.049061         0.013325        0.053301   \n",
       "std            0.273168          0.216061         0.114698        0.224701   \n",
       "min            0.000000          0.000000         0.000000        0.000000   \n",
       "25%            0.000000          0.000000         0.000000        0.000000   \n",
       "50%            0.000000          0.000000         0.000000        0.000000   \n",
       "75%            0.000000          0.000000         0.000000        0.000000   \n",
       "max            1.000000          1.000000         1.000000        1.000000   \n",
       "\n",
       "       3pm_wind_dir_WNW  3pm_wind_dir_WSW  \n",
       "count       1651.000000       1651.000000  \n",
       "mean           0.062386          0.035736  \n",
       "std            0.241929          0.185687  \n",
       "min            0.000000          0.000000  \n",
       "25%            0.000000          0.000000  \n",
       "50%            0.000000          0.000000  \n",
       "75%            0.000000          0.000000  \n",
       "max            1.000000          1.000000  \n",
       "\n",
       "[8 rows x 65 columns]"
      ]
     },
     "execution_count": 182,
     "metadata": {},
     "output_type": "execute_result"
    }
   ],
   "source": [
    "#summary stats for the data\n",
    "final_data.describe()"
   ]
  },
  {
   "cell_type": "code",
   "execution_count": 183,
   "metadata": {},
   "outputs": [
    {
     "data": {
      "text/plain": [
       "<matplotlib.axes._subplots.AxesSubplot at 0x1da03df8eb8>"
      ]
     },
     "execution_count": 183,
     "metadata": {},
     "output_type": "execute_result"
    },
    {
     "data": {
      "image/png": "[encoded data removed]",
      "text/plain": [
       "<Figure size 432x288 with 1 Axes>"
      ]
     },
     "metadata": {
      "needs_background": "light"
     },
     "output_type": "display_data"
    }
   ],
   "source": [
    "# visualising the data to find trends \n",
    "\n",
    "final_data.loc['2016-11':'2017-01'].plot.line(y = ['Humidity9am','Rainfall amount (millimetres)', 'Cloud9am', 'Temp9am']) \n",
    "\n"
   ]
  },
  {
   "cell_type": "code",
   "execution_count": 184,
   "metadata": {},
   "outputs": [
    {
     "data": {
      "text/plain": [
       "Text(0.5, 1.0, 'frequency of rainfall amounts')"
      ]
     },
     "execution_count": 184,
     "metadata": {},
     "output_type": "execute_result"
    },
    {
     "data": {
      "image/png": "[encoded data removed]",
      "text/plain": [
       "<Figure size 432x288 with 1 Axes>"
      ]
     },
     "metadata": {
      "needs_background": "light"
     },
     "output_type": "display_data"
    }
   ],
   "source": [
    "#Visualise data distributions\n",
    "\n",
    "#Rain amount frequency using hist\n",
    "ax = final_data.plot(kind= 'hist', y = 'Rainfall amount (millimetres)')\n",
    "ax.set_xlabel(\"rainfall (mm)\")\n",
    "ax.set_title('frequency of rainfall amounts')"
   ]
  },
  {
   "cell_type": "code",
   "execution_count": 185,
   "metadata": {},
   "outputs": [
    {
     "data": {
      "text/plain": [
       "Text(0.5, 1.0, 'boxplot of rainfall')"
      ]
     },
     "execution_count": 185,
     "metadata": {},
     "output_type": "execute_result"
    },
    {
     "data": {
      "image/png": "[encoded data removed]",
      "text/plain": [
       "<Figure size 432x288 with 1 Axes>"
      ]
     },
     "metadata": {
      "needs_background": "light"
     },
     "output_type": "display_data"
    }
   ],
   "source": [
    "#Box plot to show the spread of the data\n",
    "new_data = final_data['Rainfall amount (millimetres)']\n",
    "ax = sns.boxplot(new_data)\n",
    "ax.set_title('boxplot of rainfall')"
   ]
  },
  {
   "cell_type": "markdown",
   "metadata": {},
   "source": [
    "We can see that there is a very high concentration of data points very low, indicating that a large percentage of rainfall is below 5mm or exactly 0. Plot also depicts that there is a large number of outliers, probably because our data is quite big."
   ]
  },
  {
   "cell_type": "code",
   "execution_count": 186,
   "metadata": {},
   "outputs": [],
   "source": [
    "#quick look at linear correlations between variables\n",
    "final_data.corr()\n",
    "None\n"
   ]
  },
  {
   "cell_type": "markdown",
   "metadata": {},
   "source": [
    "## Linear regression model and RFE to find best features "
   ]
  },
  {
   "cell_type": "code",
   "execution_count": 187,
   "metadata": {},
   "outputs": [
    {
     "name": "stdout",
     "output_type": "stream",
     "text": [
      "Selected features: ['gust_dir_SE' '9am_wind_dir_S' '9am_wind_dir_SE' '3pm_wind_dir_S'\n",
      " '3pm_wind_dir_SSW' '3pm_wind_dir_SW']\n",
      "Coeffs: [ 5.26691836  3.8568247  10.09131981  3.43202774  4.18886157  3.83672466]\n",
      "MSE: 62.25054607634233\n",
      "R^2: 0.08839471598558868\n"
     ]
    }
   ],
   "source": [
    "#Linear regression with RFE\n",
    "\n",
    "\n",
    "feature_cols = np.array(['Evaporation','Sunshine','WindGustSpeed','WindSpeed9am','WindSpeed3pm','Humidity9am','Humidity3pm','Pressure9am','Pressure3pm','Cloud9am','Cloud3pm','Temp9am','Temp3pm','Maximum temperature (Degree C)','Minimum temperature (Degree C)','Daily global solar exposure (MJ/m*m)','gust_dir_E','gust_dir_ENE','gust_dir_ESE','gust_dir_N','gust_dir_NE','gust_dir_NNE','gust_dir_NNW','gust_dir_NW','gust_dir_S','gust_dir_SE','gust_dir_SSE','gust_dir_SSW','gust_dir_SW','gust_dir_W','gust_dir_WNW','gust_dir_WSW','9am_wind_dir_E','9am_wind_dir_ENE','9am_wind_dir_ESE','9am_wind_dir_N','9am_wind_dir_NE','9am_wind_dir_NNE','9am_wind_dir_NNW','9am_wind_dir_NW','9am_wind_dir_S','9am_wind_dir_SE','9am_wind_dir_SSE','9am_wind_dir_SSW','9am_wind_dir_SW','9am_wind_dir_W','9am_wind_dir_WNW','9am_wind_dir_WSW','3pm_wind_dir_E','3pm_wind_dir_ENE','3pm_wind_dir_ESE','3pm_wind_dir_N','3pm_wind_dir_NE','3pm_wind_dir_NNE','3pm_wind_dir_NNW','3pm_wind_dir_NW','3pm_wind_dir_S','3pm_wind_dir_SE','3pm_wind_dir_SSE','3pm_wind_dir_SSW','3pm_wind_dir_SW','3pm_wind_dir_W','3pm_wind_dir_WNW','3pm_wind_dir_WSW'])\n",
    "X = final_data[feature_cols]\n",
    "y = final_data['Rainfall amount (millimetres)']\n",
    "\n",
    "#finding the most relevant features\n",
    "estimator = LinearRegression()\n",
    "selector = RFE(estimator, 6)  # select 6 features for us\n",
    "selector = selector.fit(X, y)\n",
    "\n",
    "\n",
    "supp = selector.get_support()\n",
    "print(\"Selected features:\", feature_cols[supp])\n",
    "print(\"Coeffs:\", selector.estimator_.coef_)\n",
    "\n",
    "# test the model\n",
    "predicted = selector.predict(X)\n",
    "\n",
    "#MSE, lower is better\n",
    "\n",
    "print(\"MSE:\", mean_squared_error(y, predicted))\n",
    "\n",
    "# R2, higher is better \n",
    "print(\"R^2:\", r2_score(y, predicted))\n",
    "\n"
   ]
  },
  {
   "cell_type": "markdown",
   "metadata": {},
   "source": [
    "#### Thoughts on model\n",
    "\n",
    "We can see that the model has chosen the 6 variables that have the greatest affect on rainfall(mm). The model is favouring the southerly winds which tends to be accurate as typically when syndey is getting northerly winds they tend to be drier winds as they are coming from the heated interior of Australia. Sydney is located in what is called the subtropical ridge which moves above and below sydney throught the year. When the ridge moves below syndey in the late summer and autumn the winds typically become more easterly and from the tasman sea. These winds are generally a more moist wind bringing more rain in these periods.\n",
    "\n",
    "However our measurements of accuracy of the model, MSE is relatively high and R2 is very low, indicating that the model fitted does not well suit the data, nor produce accurate predictions. (if we were to plug in x values)\n",
    "\n"
   ]
  },
  {
   "cell_type": "markdown",
   "metadata": {},
   "source": [
    "## Predicting the amount of rainfall (exploring the data)\n",
    "\n",
    "From using .corr() function (when looking for trends above), humidity and cloud variables provided the greatest correlation with rainfall in mm. With this knowledge we can now **explore** the accuracy of models that use these variables to predict the amount of rainfall."
   ]
  },
  {
   "cell_type": "code",
   "execution_count": 188,
   "metadata": {},
   "outputs": [
    {
     "data": {
      "text/plain": [
       "LinearRegression(copy_X=True, fit_intercept=True, n_jobs=None, normalize=False)"
      ]
     },
     "execution_count": 188,
     "metadata": {},
     "output_type": "execute_result"
    }
   ],
   "source": [
    "# create X and y\n",
    "feature_cols = ['Humidity9am']\n",
    "X = final_data[feature_cols]\n",
    "y = final_data['Rainfall amount (millimetres)'] \n",
    "\n",
    "#instantiate, fit\n",
    "model = LinearRegression()\n",
    "model.fit(X, y)"
   ]
  },
  {
   "cell_type": "code",
   "execution_count": 189,
   "metadata": {},
   "outputs": [
    {
     "name": "stdout",
     "output_type": "stream",
     "text": [
      "y =  [0.17777174] * x +  -8.944683752950999\n"
     ]
    }
   ],
   "source": [
    "print(\"y = \", model.coef_, \"* x + \", model.intercept_) "
   ]
  },
  {
   "cell_type": "code",
   "execution_count": 190,
   "metadata": {},
   "outputs": [],
   "source": [
    "xmin = X.min()\n",
    "ymin = model.coef_[0] * xmin + model.intercept_\n",
    "xmax = X.max()\n",
    "ymax = model.coef_[0] * xmax + model.intercept_\n"
   ]
  },
  {
   "cell_type": "code",
   "execution_count": 191,
   "metadata": {},
   "outputs": [
    {
     "data": {
      "text/plain": [
       "<seaborn.axisgrid.FacetGrid at 0x1da74a7fb38>"
      ]
     },
     "execution_count": 191,
     "metadata": {},
     "output_type": "execute_result"
    },
    {
     "data": {
      "image/png": "[encoded data removed]",
      "text/plain": [
       "<Figure size 360x360 with 1 Axes>"
      ]
     },
     "metadata": {
      "needs_background": "light"
     },
     "output_type": "display_data"
    }
   ],
   "source": [
    " sns.lmplot('Humidity9am', 'Rainfall amount (millimetres)', final_data, height=5)"
   ]
  },
  {
   "cell_type": "code",
   "execution_count": 192,
   "metadata": {},
   "outputs": [
    {
     "name": "stdout",
     "output_type": "stream",
     "text": [
      "MSE: 60.98908147108104\n",
      "R^2: 0.1068677716009252\n"
     ]
    }
   ],
   "source": [
    "#evaluating this model\n",
    "predicted = model.predict(X)\n",
    "print(\"MSE:\", mean_squared_error(y, predicted))\n",
    "print(\"R^2:\", r2_score(y, predicted))\n"
   ]
  },
  {
   "cell_type": "markdown",
   "metadata": {},
   "source": [
    "#### Making our model better\n",
    "if we also factor the cloud variable with humidity, our model may improve"
   ]
  },
  {
   "cell_type": "code",
   "execution_count": 193,
   "metadata": {},
   "outputs": [
    {
     "data": {
      "text/plain": [
       "LinearRegression(copy_X=True, fit_intercept=True, n_jobs=None, normalize=False)"
      ]
     },
     "execution_count": 193,
     "metadata": {},
     "output_type": "execute_result"
    }
   ],
   "source": [
    "# create X and y, add 2 more features to x\n",
    "feature_cols = ['Humidity9am', 'Humidity3pm',\"Cloud9am\"]\n",
    "X = final_data[feature_cols]\n",
    "y = final_data['Rainfall amount (millimetres)'] \n",
    "\n",
    "#instantiate, fit\n",
    "model = LinearRegression()\n",
    "model.fit(X, y)"
   ]
  },
  {
   "cell_type": "code",
   "execution_count": 194,
   "metadata": {},
   "outputs": [
    {
     "name": "stdout",
     "output_type": "stream",
     "text": [
      "y =  [0.10193932 0.06516373 0.39340354] * x +  -9.013050630801827\n"
     ]
    }
   ],
   "source": [
    "print(\"y = \", model.coef_, \"* x + \", model.intercept_) "
   ]
  },
  {
   "cell_type": "code",
   "execution_count": 195,
   "metadata": {},
   "outputs": [
    {
     "name": "stdout",
     "output_type": "stream",
     "text": [
      "MSE: 59.07589251001274\n",
      "R^2: 0.13488476544526873\n"
     ]
    }
   ],
   "source": [
    "predicted = model.predict(X)\n",
    "print(\"MSE:\", mean_squared_error(y, predicted))\n",
    "print(\"R^2:\", r2_score(y, predicted))\n"
   ]
  },
  {
   "cell_type": "markdown",
   "metadata": {},
   "source": [
    "The value of the $R^{2}$ value shows that the model has improved a little bit from the previous model, but still it's not a good model yet."
   ]
  },
  {
   "cell_type": "markdown",
   "metadata": {},
   "source": [
    "### Visualising our results\n"
   ]
  },
  {
   "cell_type": "code",
   "execution_count": 196,
   "metadata": {},
   "outputs": [
    {
     "data": {
      "text/plain": [
       "Text(0, 0.5, 'rainfall (mm)')"
      ]
     },
     "execution_count": 196,
     "metadata": {},
     "output_type": "execute_result"
    },
    {
     "data": {
      "image/png": "[encoded data removed]",
      "text/plain": [
       "<Figure size 432x288 with 1 Axes>"
      ]
     },
     "metadata": {
      "needs_background": "light"
     },
     "output_type": "display_data"
    }
   ],
   "source": [
    "#plotting the real data of rainfall (mm)\n",
    "ax2 = final_data.plot(kind = 'line', y = 'Rainfall amount (millimetres)')\n",
    "ax2.set_ylabel(\"rainfall (mm)\")\n"
   ]
  },
  {
   "cell_type": "code",
   "execution_count": 197,
   "metadata": {},
   "outputs": [],
   "source": [
    "#new column in the frame to stored predicted rainfall\n",
    "final_data['predicted'] = predicted"
   ]
  },
  {
   "cell_type": "code",
   "execution_count": 198,
   "metadata": {},
   "outputs": [
    {
     "data": {
      "text/plain": [
       "Text(0, 0.5, 'rainfall (mm)')"
      ]
     },
     "execution_count": 198,
     "metadata": {},
     "output_type": "execute_result"
    },
    {
     "data": {
      "image/png": "[encoded data removed]",
      "text/plain": [
       "<Figure size 432x288 with 1 Axes>"
      ]
     },
     "metadata": {
      "needs_background": "light"
     },
     "output_type": "display_data"
    }
   ],
   "source": [
    "#plotting our predicted rainfall\n",
    "ax3 =final_data.plot(kind = 'line', y = 'predicted')\n",
    "ax3.set_ylabel(\"rainfall (mm)\")\n"
   ]
  },
  {
   "cell_type": "markdown",
   "metadata": {},
   "source": [
    "Note that predicted rain never goes beyond 10mm\n",
    "\n",
    "Also, negative predictions should be considered as 0"
   ]
  },
  {
   "cell_type": "markdown",
   "metadata": {},
   "source": [
    "### Results\n",
    "\n",
    "Through fine tuning our model and changing the features it takes into account we were able to marginally improve upon its accuracy. Both the MSE and R2 are in better shape  after adding more features chosen through observation. \n",
    "\n",
    "However it is clear to see that our model is not accurate\n"
   ]
  },
  {
   "cell_type": "markdown",
   "metadata": {},
   "source": [
    "## The effect of temperature on the occurrence of rainfall (exploring the data)\n",
    "\n",
    "Even though our previous base model using RFE did not pick temp as a feature, it is often thought that temperature has a substantial effect on rainfall. This model will be based on temp."
   ]
  },
  {
   "cell_type": "code",
   "execution_count": 199,
   "metadata": {},
   "outputs": [],
   "source": [
    "# model for temp3pm vs  whether it rains or not\n",
    "\n",
    "#make rainfall a categorical variable, eg rainfall = 1, no_rain = 0.\n",
    "\n",
    "final_data['rain'] = (final_data['Rainfall amount (millimetres)'] > 0).astype('int64')\n",
    "final_data['no_rain'] = (final_data['Rainfall amount (millimetres)'] == 0).astype('int64')\n"
   ]
  },
  {
   "cell_type": "code",
   "execution_count": 200,
   "metadata": {},
   "outputs": [],
   "source": [
    "#sort by column\n",
    "final_data['Temp3pm'].sort_values()\n",
    "None"
   ]
  },
  {
   "cell_type": "markdown",
   "metadata": {},
   "source": [
    "#### Logistic regression categorical rain vs temp3pm"
   ]
  },
  {
   "cell_type": "code",
   "execution_count": 201,
   "metadata": {},
   "outputs": [
    {
     "name": "stderr",
     "output_type": "stream",
     "text": [
      "C:\\Users\\Mark\\Anaconda3\\lib\\site-packages\\sklearn\\linear_model\\logistic.py:432: FutureWarning: Default solver will be changed to 'lbfgs' in 0.22. Specify a solver to silence this warning.\n",
      "  FutureWarning)\n"
     ]
    },
    {
     "data": {
      "text/plain": [
       "LogisticRegression(C=1.0, class_weight=None, dual=False, fit_intercept=True,\n",
       "                   intercept_scaling=1, l1_ratio=None, max_iter=100,\n",
       "                   multi_class='warn', n_jobs=None, penalty='l2',\n",
       "                   random_state=None, solver='warn', tol=0.0001, verbose=0,\n",
       "                   warm_start=False)"
      ]
     },
     "execution_count": 201,
     "metadata": {},
     "output_type": "execute_result"
    }
   ],
   "source": [
    "#using logistic reg\n",
    "\n",
    "feature_cols = ['Temp3pm']\n",
    "X = final_data[feature_cols]\n",
    "y = final_data['rain']\n",
    "logreg = LogisticRegression()\n",
    "logreg.fit(X, y)"
   ]
  },
  {
   "cell_type": "code",
   "execution_count": 202,
   "metadata": {},
   "outputs": [
    {
     "data": {
      "text/plain": [
       "Text(0, 0.5, 'predicted rain')"
      ]
     },
     "execution_count": 202,
     "metadata": {},
     "output_type": "execute_result"
    },
    {
     "data": {
      "image/png": "[encoded data removed]",
      "text/plain": [
       "<Figure size 432x288 with 1 Axes>"
      ]
     },
     "metadata": {
      "needs_background": "light"
     },
     "output_type": "display_data"
    }
   ],
   "source": [
    "#predict and plot\n",
    "predicted = logreg.predict(X)\n",
    "plt.scatter(X, predicted)\n",
    "plt.xlabel('Temp3pm');plt.ylabel('predicted rain')"
   ]
  },
  {
   "cell_type": "code",
   "execution_count": 203,
   "metadata": {},
   "outputs": [
    {
     "name": "stdout",
     "output_type": "stream",
     "text": [
      "Accuracy: 0.6281041792852816\n"
     ]
    }
   ],
   "source": [
    "print(\"Accuracy:\", metrics.accuracy_score(y, predicted))"
   ]
  },
  {
   "cell_type": "markdown",
   "metadata": {},
   "source": [
    "#### Visualising success of the logistic regression model"
   ]
  },
  {
   "cell_type": "code",
   "execution_count": 204,
   "metadata": {},
   "outputs": [
    {
     "data": {
      "text/plain": [
       "<function matplotlib.pyplot.show(*args, **kw)>"
      ]
     },
     "execution_count": 204,
     "metadata": {},
     "output_type": "execute_result"
    },
    {
     "data": {
      "image/png": "[encoded data removed]",
      "text/plain": [
       "<Figure size 432x288 with 1 Axes>"
      ]
     },
     "metadata": {
      "needs_background": "light"
     },
     "output_type": "display_data"
    }
   ],
   "source": [
    "#visualising the success of our model\n",
    "\n",
    "x = np.array(final_data['Temp3pm'])\n",
    "y = np.array(final_data['rain'])\n",
    "\n",
    "\n",
    "plt.scatter(x, y,color = 'green')\n",
    "plt.scatter(x, predicted,color = 'red')\n",
    "plt.xlabel('Temp3pm');plt.ylabel('rains')\n",
    "plt.show"
   ]
  },
  {
   "cell_type": "markdown",
   "metadata": {},
   "source": [
    "Green is the **data** plot of temperature and whether or not it rains\n",
    "\n",
    "Red is temperature and our **predictions** of whether it will rain or not"
   ]
  },
  {
   "cell_type": "markdown",
   "metadata": {},
   "source": [
    "#### Evaluating the logistic reg model\n",
    "\n",
    "Numerically, our model received an accuracy score of 0.62... using the accuracy_score function. This informs us the accuracy of this model is low.\n",
    "\n",
    "In the above figure, red is our logistic regression model predictions, whilst green is the actual data from the frame.\n",
    "You can see that it is not very successful. The model (red) predicts that rainfall does not occur at all at temps above 17 deg celsius. \n",
    "\n",
    "Below is the probability prediction made by the same logistic model."
   ]
  },
  {
   "cell_type": "code",
   "execution_count": 205,
   "metadata": {},
   "outputs": [
    {
     "data": {
      "image/png": "[encoded data removed]",
      "text/plain": [
       "<Figure size 432x288 with 1 Axes>"
      ]
     },
     "metadata": {
      "needs_background": "light"
     },
     "output_type": "display_data"
    }
   ],
   "source": [
    "#Probability with logistic regression\n",
    "probs = logreg.predict_proba(X)[:, 1] \n",
    "plt.scatter(X, y); plt.scatter(X, probs)\n",
    "plt.xlabel('temp3pm');plt.ylabel( 'rains')\n",
    "None"
   ]
  },
  {
   "cell_type": "markdown",
   "metadata": {},
   "source": [
    "### Analysis of probability model\n",
    "\n",
    "With the use of the logistic regression probability graph, one can see that the line maintains a linear form, showing that the colder the temp is (at 3pm), the more likely it will rain on that day. \n",
    "\n",
    "At temperatures >17 degrees C, it appears that the chance of rain is below 0.5.\n",
    "\n",
    "< 17 degrees C, probability of rain is above 0.5.\n",
    "\n",
    "##### The line of probability in this graph is too flat, indicating that probabilities are more vague than desired"
   ]
  },
  {
   "cell_type": "markdown",
   "metadata": {},
   "source": [
    "## Heatmap of Total Daily Rainfall for each month:"
   ]
  },
  {
   "cell_type": "markdown",
   "metadata": {},
   "source": [
    "Generating a heatmap to show the total rainfall each month"
   ]
  },
  {
   "cell_type": "markdown",
   "metadata": {},
   "source": [
    "Reset the index and generate a new dataframe with date and rainfall:"
   ]
  },
  {
   "cell_type": "code",
   "execution_count": 206,
   "metadata": {},
   "outputs": [],
   "source": [
    "from datetime import date\n",
    "heatmap = rainfall_final.reset_index()\n",
    "heatmap2 = heatmap[['Date', 'Rainfall amount (millimetres)']]"
   ]
  },
  {
   "cell_type": "markdown",
   "metadata": {},
   "source": [
    "Restricting the date between January 1st 2013 and December 31st 2016 this is done because they have a full years worth of data."
   ]
  },
  {
   "cell_type": "code",
   "execution_count": 207,
   "metadata": {},
   "outputs": [],
   "source": [
    "# restrict to only complete years\n",
    "heatmap2 = heatmap2.loc[(heatmap2['Date'] >= '2013-01-01')]   # for every month ( includes only 6 months for 2012 and 2017)\n",
    "heatmap3 = heatmap2.loc[(heatmap2['Date'] <= '2016-12-31')]   # >= 2012-07-01 & <=2017-05-31"
   ]
  },
  {
   "cell_type": "markdown",
   "metadata": {},
   "source": [
    "Convert to datetime month and datetime year"
   ]
  },
  {
   "cell_type": "code",
   "execution_count": 208,
   "metadata": {},
   "outputs": [
    {
     "name": "stderr",
     "output_type": "stream",
     "text": [
      "C:\\Users\\Mark\\Anaconda3\\lib\\site-packages\\ipykernel_launcher.py:1: SettingWithCopyWarning: \n",
      "A value is trying to be set on a copy of a slice from a DataFrame.\n",
      "Try using .loc[row_indexer,col_indexer] = value instead\n",
      "\n",
      "See the caveats in the documentation: http://pandas.pydata.org/pandas-docs/stable/indexing.html#indexing-view-versus-copy\n",
      "  \"\"\"Entry point for launching an IPython kernel.\n",
      "C:\\Users\\Mark\\Anaconda3\\lib\\site-packages\\ipykernel_launcher.py:2: SettingWithCopyWarning: \n",
      "A value is trying to be set on a copy of a slice from a DataFrame.\n",
      "Try using .loc[row_indexer,col_indexer] = value instead\n",
      "\n",
      "See the caveats in the documentation: http://pandas.pydata.org/pandas-docs/stable/indexing.html#indexing-view-versus-copy\n",
      "  \n"
     ]
    }
   ],
   "source": [
    "heatmap3['month'] = heatmap3['Date'].dt.month;\n",
    "heatmap3['year'] = heatmap3['Date'].dt.year;"
   ]
  },
  {
   "cell_type": "markdown",
   "metadata": {},
   "source": [
    "Pivot the dataframe to generate the sum of rainfall for each month:"
   ]
  },
  {
   "cell_type": "code",
   "execution_count": 209,
   "metadata": {},
   "outputs": [],
   "source": [
    "df = pd.pivot_table(heatmap3[['year', 'month', 'Rainfall amount (millimetres)']], index=['year', 'month'], aggfunc=np.sum)"
   ]
  },
  {
   "cell_type": "code",
   "execution_count": 210,
   "metadata": {},
   "outputs": [],
   "source": [
    "df2 = df.unstack(level=0)"
   ]
  },
  {
   "cell_type": "code",
   "execution_count": 211,
   "metadata": {},
   "outputs": [
    {
     "data": {
      "image/png": "[encoded data removed]",
      "text/plain": [
       "<Figure size 792x1080 with 2 Axes>"
      ]
     },
     "metadata": {
      "needs_background": "light"
     },
     "output_type": "display_data"
    }
   ],
   "source": [
    "month = ['Jan', 'Feb', 'Mar', 'Apr', 'May', 'Jun', 'Jul', 'Aug', 'Sep', 'Oct', 'Nov', 'Dec']\n",
    "year = ['2013', '2014', '2015', '2016']\n",
    "f, ax = plt.subplots(figsize=(11, 15))\n",
    "ax = sns.heatmap(df2, annot=True, fmt=\".1f\", linewidths=0.5, ax=ax, xticklabels = year, yticklabels = month, cmap=\"YlGnBu\")\n",
    "ax.axes.set_title(\"Heatmap of Total Rainfall (mm) each Month\", fontsize=24, y=1.01)\n",
    "ax.set(xlabel='Year', ylabel='Month');"
   ]
  },
  {
   "cell_type": "markdown",
   "metadata": {},
   "source": [
    "The heatmap shows that April 2015 had the highest total rainfall (366.8mm), while May 2016 had the lowest total rainfall (7.2mm)."
   ]
  },
  {
   "cell_type": "markdown",
   "metadata": {},
   "source": [
    "## Predicting whether it will rain:"
   ]
  },
  {
   "cell_type": "markdown",
   "metadata": {},
   "source": [
    "If any issues viewing outputs, install the following:\n",
    "* python-graphviz\n",
    "* pydot"
   ]
  },
  {
   "cell_type": "code",
   "execution_count": 212,
   "metadata": {},
   "outputs": [],
   "source": [
    "# libraries\n",
    "from sklearn.linear_model import LogisticRegression\n",
    "from sklearn.model_selection import train_test_split\n",
    "import numpy as np\n",
    "from sklearn import metrics\n",
    "import matplotlib.pyplot as plt\n",
    "import seaborn as sns\n",
    "%matplotlib inline\n",
    "from sklearn.metrics import accuracy_score\n",
    "from sklearn.metrics import f1_score\n",
    "from sklearn.neighbors import KNeighborsClassifier\n",
    "from sklearn.tree import DecisionTreeClassifier\n",
    "from sklearn.metrics import confusion_matrix\n",
    "from sklearn.tree import export_graphviz\n",
    "from sklearn.externals.six import StringIO \n",
    "from IPython.display import Image \n",
    "from pydot import graph_from_dot_data\n",
    "from sklearn.neural_network import MLPClassifier"
   ]
  },
  {
   "cell_type": "markdown",
   "metadata": {},
   "source": [
    "Begin by generating a new column in our dataset, \"Rain today\", whereby if rainfall is zero it takes a value of 0, and if rainfall is > 0 it takes a value of 1. "
   ]
  },
  {
   "cell_type": "code",
   "execution_count": 213,
   "metadata": {},
   "outputs": [],
   "source": [
    "# create a new column to determine whether it rained on that day (no rain = 0, rain = 1)\n",
    "final_data['Rain today'] = [0 if x == 0.0 else 1 for x in final_data['Rainfall amount (millimetres)']]"
   ]
  },
  {
   "cell_type": "markdown",
   "metadata": {},
   "source": [
    "Generating our X and y data and splitting it into training and testing sets:"
   ]
  },
  {
   "cell_type": "code",
   "execution_count": 214,
   "metadata": {},
   "outputs": [],
   "source": [
    "feature_cols = np.array(['Evaporation','Sunshine','WindGustSpeed','WindSpeed9am','WindSpeed3pm','Humidity9am','Humidity3pm','Pressure9am','Pressure3pm','Cloud9am','Cloud3pm','Temp9am','Temp3pm','Maximum temperature (Degree C)','Minimum temperature (Degree C)','Daily global solar exposure (MJ/m*m)','gust_dir_E','gust_dir_ENE','gust_dir_ESE','gust_dir_N','gust_dir_NE','gust_dir_NNE','gust_dir_NNW','gust_dir_NW','gust_dir_S','gust_dir_SE','gust_dir_SSE','gust_dir_SSW','gust_dir_SW','gust_dir_W','gust_dir_WNW','gust_dir_WSW','9am_wind_dir_E','9am_wind_dir_ENE','9am_wind_dir_ESE','9am_wind_dir_N','9am_wind_dir_NE','9am_wind_dir_NNE','9am_wind_dir_NNW','9am_wind_dir_NW','9am_wind_dir_S','9am_wind_dir_SE','9am_wind_dir_SSE','9am_wind_dir_SSW','9am_wind_dir_SW','9am_wind_dir_W','9am_wind_dir_WNW','9am_wind_dir_WSW','3pm_wind_dir_E','3pm_wind_dir_ENE','3pm_wind_dir_ESE','3pm_wind_dir_N','3pm_wind_dir_NE','3pm_wind_dir_NNE','3pm_wind_dir_NNW','3pm_wind_dir_NW','3pm_wind_dir_S','3pm_wind_dir_SE','3pm_wind_dir_SSE','3pm_wind_dir_SSW','3pm_wind_dir_SW','3pm_wind_dir_W','3pm_wind_dir_WNW','3pm_wind_dir_WSW'])\n",
    "X = final_data[feature_cols]\n",
    "y = final_data['Rain today']\n",
    "X_train,X_test,y_train,y_test=train_test_split(X,y,test_size = 0.3, random_state = 0)"
   ]
  },
  {
   "cell_type": "markdown",
   "metadata": {},
   "source": [
    "Looking at our training and testing data sets for X and y:"
   ]
  },
  {
   "cell_type": "code",
   "execution_count": 215,
   "metadata": {},
   "outputs": [
    {
     "name": "stdout",
     "output_type": "stream",
     "text": [
      "X_train shape: (1155, 64)\n",
      "y_train shape: (1155,)\n"
     ]
    }
   ],
   "source": [
    "print(\"X_train shape: {}\".format(X_train.shape))\n",
    "print(\"y_train shape: {}\".format(y_train.shape))"
   ]
  },
  {
   "cell_type": "code",
   "execution_count": 216,
   "metadata": {},
   "outputs": [
    {
     "name": "stdout",
     "output_type": "stream",
     "text": [
      "X_test shape: (496, 64)\n",
      "y_test shape: (496,)\n"
     ]
    }
   ],
   "source": [
    "print(\"X_test shape: {}\".format(X_test.shape))\n",
    "print(\"y_test shape: {}\".format(y_test.shape))"
   ]
  },
  {
   "cell_type": "markdown",
   "metadata": {},
   "source": [
    "So our training set is made up of 1155 observations and our testing set is made up of 496 observations.\n",
    "<br>\n",
    "We will build models based on the training set and then test them using the testing set, looking at the accuracy of its predictions."
   ]
  },
  {
   "cell_type": "markdown",
   "metadata": {},
   "source": [
    "### Logistic Regression (base model):\n",
    "Generate a base model for which comparisons can be made."
   ]
  },
  {
   "cell_type": "code",
   "execution_count": 217,
   "metadata": {},
   "outputs": [
    {
     "name": "stderr",
     "output_type": "stream",
     "text": [
      "C:\\Users\\Mark\\Anaconda3\\lib\\site-packages\\sklearn\\linear_model\\logistic.py:432: FutureWarning: Default solver will be changed to 'lbfgs' in 0.22. Specify a solver to silence this warning.\n",
      "  FutureWarning)\n"
     ]
    }
   ],
   "source": [
    "logreg = LogisticRegression()\n",
    "logreg.fit(X_train,y_train)\n",
    "y_pred_logreg = logreg.predict(X_test)"
   ]
  },
  {
   "cell_type": "markdown",
   "metadata": {},
   "source": [
    "#### Results:"
   ]
  },
  {
   "cell_type": "markdown",
   "metadata": {},
   "source": [
    "First we generate a confusion matrix which will show how our model trained on the training set will predict in the testing set:"
   ]
  },
  {
   "cell_type": "code",
   "execution_count": 218,
   "metadata": {},
   "outputs": [
    {
     "data": {
      "text/plain": [
       "Text(0.5, 15.0, 'Predicted outcome')"
      ]
     },
     "execution_count": 218,
     "metadata": {},
     "output_type": "execute_result"
    },
    {
     "data": {
      "image/png": "[encoded data removed]",
      "text/plain": [
       "<Figure size 432x288 with 2 Axes>"
      ]
     },
     "metadata": {
      "needs_background": "light"
     },
     "output_type": "display_data"
    }
   ],
   "source": [
    "cnf_matrix = metrics.confusion_matrix(y_test, y_pred_logreg)\n",
    "cnf_matrix\n",
    "\n",
    "class_names=[0,1]\n",
    "fig, ax = plt.subplots()\n",
    "tick_marks = np.arange(len(class_names))\n",
    "plt.xticks(tick_marks, class_names)\n",
    "plt.yticks(tick_marks, class_names)\n",
    "# create heatmap\n",
    "sns.heatmap(pd.DataFrame(cnf_matrix), annot=True, cmap=\"YlGnBu\" ,fmt='g')\n",
    "plt.tight_layout()\n",
    "plt.title('Confusion matrix', y=1.1)\n",
    "plt.ylabel('Actual outcome')\n",
    "plt.xlabel('Predicted outcome')"
   ]
  },
  {
   "cell_type": "markdown",
   "metadata": {},
   "source": [
    "This matrix shows the predicted outcome against the actual outcome, where no rain = 0, and rain = 1.\n",
    "\n",
    "So...\n",
    "From the 496 observations in the testing set, our logistic regression successfully predicted:\n",
    "<br>\n",
    "364/496 observations or 73.39% based on its training from the training set\n",
    "<br>\n",
    "<br>\n",
    "The top right quadrant represents a false positive (Type 1 error), i.e. predicting it will rain and it doesnt\n",
    "<br>\n",
    "The bottom left quadrant represents a false negative (Type 2 error). i.e. predicting it wont rain and it does."
   ]
  },
  {
   "cell_type": "markdown",
   "metadata": {},
   "source": [
    "This can also be portrayed in the accuracy score:\n",
    "<br>\n",
    "Accuracy Score is the ratio of correctly predicted observation to the total observations."
   ]
  },
  {
   "cell_type": "code",
   "execution_count": 219,
   "metadata": {},
   "outputs": [
    {
     "name": "stdout",
     "output_type": "stream",
     "text": [
      "Accuracy:  0.7338709677419355\n"
     ]
    }
   ],
   "source": [
    "#print('Accuracy: ', accuracy_score(y_test, y_pred_logreg))\n",
    "accuracy_logreg = accuracy_score(y_test, y_pred_logreg)\n",
    "print('Accuracy: ', accuracy_logreg)"
   ]
  },
  {
   "cell_type": "markdown",
   "metadata": {},
   "source": [
    "We also utilse F1 score to measure the success of our model:\n",
    "<br>\n",
    "F1 score is the weighted average of Precision and Recall."
   ]
  },
  {
   "cell_type": "code",
   "execution_count": 220,
   "metadata": {},
   "outputs": [
    {
     "name": "stdout",
     "output_type": "stream",
     "text": [
      "F1 score:  0.6228571428571429\n"
     ]
    }
   ],
   "source": [
    "#print('F1 score: ', f1_score(y_test, y_pred_logreg))\n",
    "f1_score_logreg = f1_score(y_test, y_pred_logreg)\n",
    "print('F1 score: ', f1_score_logreg)"
   ]
  },
  {
   "cell_type": "markdown",
   "metadata": {},
   "source": [
    "## Now we utilise different techniques to improve the baseline model:"
   ]
  },
  {
   "cell_type": "markdown",
   "metadata": {},
   "source": [
    "### 1. K Nearest Neighbor"
   ]
  },
  {
   "cell_type": "markdown",
   "metadata": {},
   "source": [
    "We look at a range of values for K (1-40) to see which produces the most accurate model:"
   ]
  },
  {
   "cell_type": "code",
   "execution_count": 221,
   "metadata": {},
   "outputs": [],
   "source": [
    "neighbors = list(range(1,40))\n",
    "error = []"
   ]
  },
  {
   "cell_type": "markdown",
   "metadata": {},
   "source": [
    "Now we find the mean error for each value of k:"
   ]
  },
  {
   "cell_type": "code",
   "execution_count": 222,
   "metadata": {},
   "outputs": [
    {
     "data": {
      "text/plain": [
       "[0.33669354838709675,\n",
       " 0.3185483870967742,\n",
       " 0.3165322580645161,\n",
       " 0.2903225806451613,\n",
       " 0.2842741935483871,\n",
       " 0.29435483870967744,\n",
       " 0.2762096774193548,\n",
       " 0.2782258064516129,\n",
       " 0.2661290322580645,\n",
       " 0.2782258064516129,\n",
       " 0.26814516129032256,\n",
       " 0.2721774193548387,\n",
       " 0.26814516129032256,\n",
       " 0.27419354838709675,\n",
       " 0.2661290322580645,\n",
       " 0.2782258064516129,\n",
       " 0.27419354838709675,\n",
       " 0.28830645161290325,\n",
       " 0.2762096774193548,\n",
       " 0.27419354838709675,\n",
       " 0.2701612903225806,\n",
       " 0.28225806451612906,\n",
       " 0.26411290322580644,\n",
       " 0.2762096774193548,\n",
       " 0.26814516129032256,\n",
       " 0.27419354838709675,\n",
       " 0.27419354838709675,\n",
       " 0.27419354838709675,\n",
       " 0.2762096774193548,\n",
       " 0.27419354838709675,\n",
       " 0.2701612903225806,\n",
       " 0.28024193548387094,\n",
       " 0.27419354838709675,\n",
       " 0.2862903225806452,\n",
       " 0.2721774193548387,\n",
       " 0.2862903225806452,\n",
       " 0.2762096774193548,\n",
       " 0.28024193548387094,\n",
       " 0.27419354838709675]"
      ]
     },
     "execution_count": 222,
     "metadata": {},
     "output_type": "execute_result"
    }
   ],
   "source": [
    "for k in neighbors:\n",
    "    knn = KNeighborsClassifier(n_neighbors = k)\n",
    "    knn.fit(X_train, y_train)\n",
    "    pred_i = knn.predict(X_test)\n",
    "    error.append(np.mean(pred_i != y_test))\n",
    "    \n",
    "error"
   ]
  },
  {
   "cell_type": "markdown",
   "metadata": {},
   "source": [
    "Plotting these errors against the value of K we can produce the following plot:"
   ]
  },
  {
   "cell_type": "code",
   "execution_count": 223,
   "metadata": {},
   "outputs": [
    {
     "data": {
      "image/png": "[encoded data removed]",
      "text/plain": [
       "<Figure size 432x288 with 1 Axes>"
      ]
     },
     "metadata": {
      "needs_background": "light"
     },
     "output_type": "display_data"
    }
   ],
   "source": [
    "plt.plot(neighbors, error, color = 'black', marker = 'o', markerfacecolor = 'red', markersize = 5)\n",
    "plt.xlabel('Value of K for K-Nearest Neighbors')\n",
    "plt.ylabel('Mean Error')\n",
    "plt.show()"
   ]
  },
  {
   "cell_type": "markdown",
   "metadata": {},
   "source": [
    "Looking for the smallest mean error, we see that this occurs when k is set to 23"
   ]
  },
  {
   "cell_type": "markdown",
   "metadata": {},
   "source": [
    "Conducting K Nearest Neighbor with k=23:"
   ]
  },
  {
   "cell_type": "code",
   "execution_count": 224,
   "metadata": {},
   "outputs": [],
   "source": [
    "k = 23 # number of neighbors\n",
    "knn = KNeighborsClassifier(n_neighbors = k)\n",
    "knn.fit(X_train, y_train)\n",
    "y_pred_knn = knn.predict(X_test)"
   ]
  },
  {
   "cell_type": "code",
   "execution_count": 225,
   "metadata": {},
   "outputs": [
    {
     "data": {
      "text/plain": [
       "Text(0.5, 15.0, 'Predicted outcome')"
      ]
     },
     "execution_count": 225,
     "metadata": {},
     "output_type": "execute_result"
    },
    {
     "data": {
      "image/png": "[encoded data removed]",
      "text/plain": [
       "<Figure size 432x288 with 2 Axes>"
      ]
     },
     "metadata": {
      "needs_background": "light"
     },
     "output_type": "display_data"
    }
   ],
   "source": [
    "cnf_matrix = metrics.confusion_matrix(y_test, y_pred_knn)\n",
    "cnf_matrix\n",
    "\n",
    "class_names=[0,1]\n",
    "fig, ax = plt.subplots()\n",
    "tick_marks = np.arange(len(class_names))\n",
    "plt.xticks(tick_marks, class_names)\n",
    "plt.yticks(tick_marks, class_names)\n",
    "# create heatmap\n",
    "sns.heatmap(pd.DataFrame(cnf_matrix), annot=True, cmap=\"YlGnBu\" ,fmt='g')\n",
    "plt.tight_layout()\n",
    "plt.title('Confusion matrix', y=1.1)\n",
    "plt.ylabel('Actual outcome')\n",
    "plt.xlabel('Predicted outcome')"
   ]
  },
  {
   "cell_type": "markdown",
   "metadata": {},
   "source": [
    "Here we can see that the model successfully predicts whether it will rain in:\n",
    "<br>\n",
    "365/496 observations or 73.59%"
   ]
  },
  {
   "cell_type": "markdown",
   "metadata": {},
   "source": [
    "Looking at the accuracy score and F1 score for the 23 nearest neighbors model:"
   ]
  },
  {
   "cell_type": "code",
   "execution_count": 226,
   "metadata": {},
   "outputs": [
    {
     "name": "stdout",
     "output_type": "stream",
     "text": [
      "Accuracy:  0.7358870967741935\n",
      "F1 score:  0.5969230769230769\n"
     ]
    }
   ],
   "source": [
    "#print('Accuracy: ', accuracy_score(y_test, y_pred_knn))\n",
    "accuracy_knn = accuracy_score(y_test, y_pred_knn)\n",
    "print('Accuracy: ', accuracy_knn)\n",
    "#print('F1 score: ', f1_score(y_test, y_pred_knn))\n",
    "f1_score_knn = f1_score(y_test, y_pred_knn)\n",
    "print('F1 score: ', f1_score_knn)"
   ]
  },
  {
   "cell_type": "markdown",
   "metadata": {},
   "source": [
    "### 2. Decision Trees"
   ]
  },
  {
   "cell_type": "markdown",
   "metadata": {},
   "source": [
    "Generating a decision tree model:\n",
    "<br>\n",
    "We use max depth = 3 beacuse it provides a good basis for analysis. If the max depth is too low, the model will be underfitted, if we use a high max depth, the model will be overfitted.\n",
    "<br>\n",
    "This is because the decision tree is based upon the training set, so when it is applied to the testing set, if the model is over/underfitted it wont be a good prediction model"
   ]
  },
  {
   "cell_type": "code",
   "execution_count": 227,
   "metadata": {},
   "outputs": [],
   "source": [
    "dt = DecisionTreeClassifier(random_state=0, max_depth=3) # set the max depth of the decision tree to 3\n",
    "dt.fit(X_train, y_train)\n",
    "y_pred_dt = dt.predict(X_test)"
   ]
  },
  {
   "cell_type": "markdown",
   "metadata": {},
   "source": [
    "What our Decision Tree looks like: (max depth = 3)"
   ]
  },
  {
   "cell_type": "code",
   "execution_count": 228,
   "metadata": {},
   "outputs": [
    {
     "data": {
      "image/png": "[encoded data removed]",
      "text/plain": [
       "<IPython.core.display.Image object>"
      ]
     },
     "execution_count": 228,
     "metadata": {},
     "output_type": "execute_result"
    }
   ],
   "source": [
    "feat_names = X.columns\n",
    "targ_names = ['Rain','No Rain']\n",
    "\n",
    "dot_data = StringIO()\n",
    "export_graphviz(dt, out_file=dot_data, feature_names=feat_names)\n",
    "(graph, ) = graph_from_dot_data(dot_data.getvalue())\n",
    "Image(graph.create_png())"
   ]
  },
  {
   "cell_type": "code",
   "execution_count": 229,
   "metadata": {},
   "outputs": [
    {
     "data": {
      "text/plain": [
       "Text(0.5, 15.0, 'Predicted outcome')"
      ]
     },
     "execution_count": 229,
     "metadata": {},
     "output_type": "execute_result"
    },
    {
     "data": {
      "image/png": "[encoded data removed]",
      "text/plain": [
       "<Figure size 432x288 with 2 Axes>"
      ]
     },
     "metadata": {
      "needs_background": "light"
     },
     "output_type": "display_data"
    }
   ],
   "source": [
    "cnf_matrix = metrics.confusion_matrix(y_test, y_pred_dt)\n",
    "cnf_matrix\n",
    "\n",
    "class_names=[0,1]\n",
    "fig, ax = plt.subplots()\n",
    "tick_marks = np.arange(len(class_names))\n",
    "plt.xticks(tick_marks, class_names)\n",
    "plt.yticks(tick_marks, class_names)\n",
    "# create heatmap\n",
    "sns.heatmap(pd.DataFrame(cnf_matrix), annot=True, cmap=\"YlGnBu\" ,fmt='g')\n",
    "plt.tight_layout()\n",
    "plt.title('Confusion matrix', y=1.1)\n",
    "plt.ylabel('Actual outcome')\n",
    "plt.xlabel('Predicted outcome')"
   ]
  },
  {
   "cell_type": "markdown",
   "metadata": {},
   "source": [
    "Here we can see that the model successfully predicts whether it will rain in:\n",
    "<br>\n",
    "359/496 observations or 72.38%"
   ]
  },
  {
   "cell_type": "code",
   "execution_count": 230,
   "metadata": {},
   "outputs": [
    {
     "name": "stdout",
     "output_type": "stream",
     "text": [
      "Accuracy:  0.7237903225806451\n",
      "F1 score:  0.5259515570934256\n"
     ]
    }
   ],
   "source": [
    "#print('Accuracy: ', accuracy_score(y_test, y_pred_dt))\n",
    "accuracy_dt = accuracy_score(y_test, y_pred_dt)\n",
    "print('Accuracy: ', accuracy_dt)\n",
    "#print('F1 score: ', f1_score(y_test, y_pred_dt))\n",
    "f1_score_dt = f1_score(y_test, y_pred_dt)\n",
    "print('F1 score: ', f1_score_dt)"
   ]
  },
  {
   "cell_type": "markdown",
   "metadata": {},
   "source": [
    "### 3. Neural Networks"
   ]
  },
  {
   "cell_type": "markdown",
   "metadata": {},
   "source": [
    "First we generate a Neural Netork with random state = 0 and default parameters, later we will look at the effects of changing these other parameters on the accuracy of our model."
   ]
  },
  {
   "cell_type": "code",
   "execution_count": 231,
   "metadata": {},
   "outputs": [],
   "source": [
    "mlp = MLPClassifier(random_state=0)\n",
    "mlp.fit(X_train, y_train)\n",
    "y_pred = mlp.predict(X_test)"
   ]
  },
  {
   "cell_type": "code",
   "execution_count": 232,
   "metadata": {},
   "outputs": [
    {
     "data": {
      "text/plain": [
       "Text(0.5, 15.0, 'Predicted outcome')"
      ]
     },
     "execution_count": 232,
     "metadata": {},
     "output_type": "execute_result"
    },
    {
     "data": {
      "image/png": "[encoded data removed]",
      "text/plain": [
       "<Figure size 432x288 with 2 Axes>"
      ]
     },
     "metadata": {
      "needs_background": "light"
     },
     "output_type": "display_data"
    }
   ],
   "source": [
    "cnf_matrix = metrics.confusion_matrix(y_test, y_pred)\n",
    "cnf_matrix\n",
    "\n",
    "\n",
    "class_names=[0,1]\n",
    "fig, ax = plt.subplots()\n",
    "tick_marks = np.arange(len(class_names))\n",
    "plt.xticks(tick_marks, class_names)\n",
    "plt.yticks(tick_marks, class_names)\n",
    "# create heatmap\n",
    "sns.heatmap(pd.DataFrame(cnf_matrix), annot=True, cmap=\"YlGnBu\" ,fmt='g')\n",
    "plt.tight_layout()\n",
    "plt.title('Confusion matrix', y=1.1)\n",
    "plt.ylabel('Actual outcome')\n",
    "plt.xlabel('Predicted outcome')"
   ]
  },
  {
   "cell_type": "markdown",
   "metadata": {},
   "source": [
    "Here we can see that the model successfully predicts whether it will rain in:\n",
    "<br>\n",
    "360/496 observations or 72.58%"
   ]
  },
  {
   "cell_type": "code",
   "execution_count": 233,
   "metadata": {},
   "outputs": [
    {
     "name": "stdout",
     "output_type": "stream",
     "text": [
      "Accuracy:  0.7258064516129032\n",
      "F1 score:  0.6382978723404256\n"
     ]
    }
   ],
   "source": [
    "print('Accuracy: ', accuracy_score(y_test, y_pred))\n",
    "print('F1 score: ', f1_score(y_test, y_pred))"
   ]
  },
  {
   "cell_type": "markdown",
   "metadata": {},
   "source": [
    "Utilising the different parameters in MLPClassifier:"
   ]
  },
  {
   "cell_type": "markdown",
   "metadata": {},
   "source": [
    "1. Changing the number of iterations:"
   ]
  },
  {
   "cell_type": "code",
   "execution_count": 234,
   "metadata": {},
   "outputs": [
    {
     "data": {
      "image/png": "[encoded data removed]",
      "text/plain": [
       "<Figure size 432x288 with 1 Axes>"
      ]
     },
     "metadata": {
      "needs_background": "light"
     },
     "output_type": "display_data"
    }
   ],
   "source": [
    "training_accuracy = []\n",
    "testing_accuracy = []\n",
    "iterations = range(200, 1001, 200)\n",
    "\n",
    "for i in iterations:\n",
    "    \n",
    "    training_accuracy.append(mlp.score(X_train, y_train))\n",
    "    testing_accuracy.append(mlp.score(X_test, y_test))\n",
    "    \n",
    "plt.plot(iterations, training_accuracy, label = \"Training Accuracy\")\n",
    "plt.plot(iterations, testing_accuracy, label = \"Testing Accuracy\")\n",
    "plt.xlabel(\"Number of iterations\")\n",
    "plt.ylabel(\"Accuracy\")\n",
    "plt.legend()\n",
    "plt.show()"
   ]
  },
  {
   "cell_type": "markdown",
   "metadata": {},
   "source": [
    "Here we can see the accuracy of the model doesnt change when we change the number of iterations"
   ]
  },
  {
   "cell_type": "markdown",
   "metadata": {},
   "source": [
    "2. Changing the number of hidden units:"
   ]
  },
  {
   "cell_type": "code",
   "execution_count": 235,
   "metadata": {},
   "outputs": [
    {
     "data": {
      "image/png": "[encoded data removed]",
      "text/plain": [
       "<Figure size 432x288 with 1 Axes>"
      ]
     },
     "metadata": {
      "needs_background": "light"
     },
     "output_type": "display_data"
    }
   ],
   "source": [
    "training_accuracy = []\n",
    "testing_accuracy = []\n",
    "hidden_units = range(10, 101, 10)\n",
    "\n",
    "for i in hidden_units:\n",
    "    mlp = MLPClassifier(hidden_layer_sizes = [i], random_state = 0, max_iter=1000)\n",
    "    mlp.fit(X_train, y_train)\n",
    "    training_accuracy.append(mlp.score(X_train, y_train))\n",
    "    testing_accuracy.append(mlp.score(X_test, y_test))\n",
    "    \n",
    "plt.plot(hidden_units, training_accuracy, label = \"Training Accuracy\")\n",
    "plt.plot(hidden_units, testing_accuracy, label = \"Testing Accuracy\")\n",
    "plt.xlabel(\"Number of Hidden Units\")\n",
    "plt.ylabel(\"Accuracy\")\n",
    "plt.legend()\n",
    "plt.show()"
   ]
  },
  {
   "cell_type": "markdown",
   "metadata": {},
   "source": [
    "Accuracy for the testing set is maximised when there are 20 hidden units."
   ]
  },
  {
   "cell_type": "markdown",
   "metadata": {},
   "source": [
    "3. Changing the solver used:"
   ]
  },
  {
   "cell_type": "code",
   "execution_count": 236,
   "metadata": {},
   "outputs": [
    {
     "data": {
      "image/png": "[encoded data removed]",
      "text/plain": [
       "<Figure size 432x288 with 1 Axes>"
      ]
     },
     "metadata": {
      "needs_background": "light"
     },
     "output_type": "display_data"
    }
   ],
   "source": [
    "training_accuracy = []\n",
    "testing_accuracy = []\n",
    "solvers = ['lbfgs','sgd', 'adam']\n",
    "\n",
    "for i in solvers:\n",
    "    mlp = MLPClassifier(solver = i, random_state = 0)\n",
    "    mlp.fit(X_train, y_train)\n",
    "    training_accuracy.append(mlp.score(X_train, y_train))\n",
    "    testing_accuracy.append(mlp.score(X_test, y_test))\n",
    "    \n",
    "plt.plot(solvers, training_accuracy, label = \"Training Accuracy\")\n",
    "plt.plot(solvers, testing_accuracy, label = \"Testing Accuracy\")\n",
    "plt.xlabel(\"Type of Solver\")\n",
    "plt.ylabel(\"Accuracy\")\n",
    "plt.legend()\n",
    "plt.show()"
   ]
  },
  {
   "cell_type": "markdown",
   "metadata": {},
   "source": [
    "'adam' is the solver that provides the greatest accuracy for the testing set."
   ]
  },
  {
   "cell_type": "markdown",
   "metadata": {},
   "source": [
    "So now we build a new Neural Network, changing the parameters to maximise accuracy:"
   ]
  },
  {
   "cell_type": "code",
   "execution_count": 237,
   "metadata": {},
   "outputs": [],
   "source": [
    "mlp = MLPClassifier(random_state=0, max_iter=1000, hidden_layer_sizes=20, solver='adam')\n",
    "mlp.fit(X_train, y_train)\n",
    "y_pred_nn = mlp.predict(X_test)"
   ]
  },
  {
   "cell_type": "code",
   "execution_count": 238,
   "metadata": {},
   "outputs": [
    {
     "data": {
      "text/plain": [
       "Text(0.5, 15.0, 'Predicted outcome')"
      ]
     },
     "execution_count": 238,
     "metadata": {},
     "output_type": "execute_result"
    },
    {
     "data": {
      "image/png": "[encoded data removed]",
      "text/plain": [
       "<Figure size 432x288 with 2 Axes>"
      ]
     },
     "metadata": {
      "needs_background": "light"
     },
     "output_type": "display_data"
    }
   ],
   "source": [
    "cnf_matrix = metrics.confusion_matrix(y_test, y_pred_nn)\n",
    "cnf_matrix\n",
    "\n",
    "\n",
    "class_names=[0,1]\n",
    "fig, ax = plt.subplots()\n",
    "tick_marks = np.arange(len(class_names))\n",
    "plt.xticks(tick_marks, class_names)\n",
    "plt.yticks(tick_marks, class_names)\n",
    "# create heatmap\n",
    "sns.heatmap(pd.DataFrame(cnf_matrix), annot=True, cmap=\"YlGnBu\" ,fmt='g')\n",
    "plt.tight_layout()\n",
    "plt.title('Confusion matrix', y=1.1)\n",
    "plt.ylabel('Actual outcome')\n",
    "plt.xlabel('Predicted outcome')"
   ]
  },
  {
   "cell_type": "markdown",
   "metadata": {},
   "source": [
    "Here we can see that the model successfully predicts whether it will rain in:\n",
    "<br>\n",
    "367/496 observations or 73.99%"
   ]
  },
  {
   "cell_type": "code",
   "execution_count": 239,
   "metadata": {},
   "outputs": [
    {
     "name": "stdout",
     "output_type": "stream",
     "text": [
      "Accuracy:  0.7399193548387096\n",
      "F1 score:  0.6426592797783933\n"
     ]
    }
   ],
   "source": [
    "#print('Accuracy: ', accuracy_score(y_test, y_pred_nn))\n",
    "accuracy_nn = accuracy_score(y_test, y_pred_nn)\n",
    "print('Accuracy: ', accuracy_nn)\n",
    "#print('F1 score: ', f1_score(y_test, y_pred_nn))\n",
    "f1_score_nn = f1_score(y_test, y_pred_nn)\n",
    "print('F1 score: ', f1_score_nn)"
   ]
  },
  {
   "cell_type": "markdown",
   "metadata": {},
   "source": [
    "### Results from these 4 models:"
   ]
  },
  {
   "cell_type": "code",
   "execution_count": 240,
   "metadata": {},
   "outputs": [
    {
     "data": {
      "image/png": "[encoded data removed]",
      "text/plain": [
       "<Figure size 432x288 with 1 Axes>"
      ]
     },
     "metadata": {
      "needs_background": "light"
     },
     "output_type": "display_data"
    }
   ],
   "source": [
    "method = ['Log Regression', 'K Nearest Neighbor', 'Decision Tree', 'Neural Network']\n",
    "accuracy = [accuracy_logreg, accuracy_knn, accuracy_dt, accuracy_nn]\n",
    "f1_score = [f1_score_logreg, f1_score_knn, f1_score_dt, f1_score_nn]\n",
    "plt.plot(method, accuracy, color = 'blue', label = \"Accuracy Score\", marker = 'o', markerfacecolor = 'black', markersize = 5)\n",
    "plt.plot(method, f1_score, color = 'red', label = \"F1 Score\", marker = 'o', markerfacecolor = 'black', markersize = 5)\n",
    "plt.xlabel(\"Method\")\n",
    "plt.ylabel(\"Score\")\n",
    "plt.title(\"Accuracy and F1 Score of each approach\")\n",
    "plt.legend()\n",
    "plt.show()"
   ]
  },
  {
   "cell_type": "markdown",
   "metadata": {},
   "source": [
    "**Logistic regression (base model):**\n",
    "* Accuracy Score = 0.7338709677419355\n",
    "* F1 Score = 0.6228571428571429"
   ]
  },
  {
   "cell_type": "markdown",
   "metadata": {},
   "source": [
    "**K Nearest Neighbor:**\n",
    "* Accuracy Score = 0.7358870967741935\n",
    "* F1 Score = 0.5969230769230769"
   ]
  },
  {
   "cell_type": "markdown",
   "metadata": {},
   "source": [
    "**Decision Tree:**\n",
    "* Accuracy Score = 0.7237903225806451\n",
    "* F1 Score = 0.5259515570934256"
   ]
  },
  {
   "cell_type": "markdown",
   "metadata": {},
   "source": [
    "**Neural Network:**\n",
    "* Accuracy Score = 0.7399193548387096\n",
    "* F1 Score = 0.6426592797783933"
   ]
  },
  {
   "cell_type": "markdown",
   "metadata": {},
   "source": [
    "So training our model using a neural network produced the greatest accuracy and F1 score when forming predictions on the testing set."
   ]
  },
  {
   "cell_type": "markdown",
   "metadata": {},
   "source": [
    "## Summary and Conclusion"
   ]
  },
  {
   "cell_type": "markdown",
   "metadata": {},
   "source": [
    "At first we started our project by cleaning the data and joining datasets to get the desired data. \n",
    "In the analysis section our job was to imrove the value of $R^{2}$ ."
   ]
  },
  {
   "cell_type": "markdown",
   "metadata": {},
   "source": [
    "For rainfall prediction, our  \n",
    "\n",
    "*logistic regression* shows accuracy of 73.39%.  \n",
    "\n",
    "*KNN Model* shows accuracy of 73.59%  \n",
    "\n",
    "*Decision Tree* shows accuracy of 72.38%  \n",
    "\n",
    "*Neural Network* shoes accuracy of 73.99%  \n",
    "\n",
    "\n",
    "So training our model using a neural network produced the greatest accuracy and F1 score when forming predictions on the testing set.\n"
   ]
  }
 ],
 "metadata": {
  "kernelspec": {
   "display_name": "Python 3",
   "language": "python",
   "name": "python3"
  },
  "language_info": {
   "codemirror_mode": {
    "name": "ipython",
    "version": 3
   },
   "file_extension": ".py",
   "mimetype": "text/x-python",
   "name": "python",
   "nbconvert_exporter": "python",
   "pygments_lexer": "ipython3",
   "version": "3.7.3"
  }
 },
 "nbformat": 4,
 "nbformat_minor": 2
}
